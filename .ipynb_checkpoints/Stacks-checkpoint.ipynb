{
 "cells": [
  {
   "cell_type": "markdown",
   "metadata": {},
   "source": [
    "Stack is a linear data structure which follows a particular order in which the operations are performed. The order is LIFO."
   ]
  },
  {
   "cell_type": "markdown",
   "metadata": {},
   "source": [
    "Operations : push(), pop(), isEmpty() and peek()"
   ]
  },
  {
   "cell_type": "markdown",
   "metadata": {},
   "source": [
    "Applications\n",
    "\n",
    "Balancing of Symbols\n",
    "\n",
    "Infix to Postfix/Prefix\n",
    "\n",
    "Redo/Undo\n",
    "\n",
    "Forward/Backward\n",
    "\n",
    "Backtracking\n",
    "\n",
    "Graph Algo - Topological Sorting/ SCC\n",
    "\n",
    "String Reversals\n",
    "\n",
    "Memory Management\n"
   ]
  },
  {
   "cell_type": "markdown",
   "metadata": {},
   "source": [
    "# Implementation"
   ]
  },
  {
   "cell_type": "markdown",
   "metadata": {},
   "source": [
    "# Using Array"
   ]
  },
  {
   "cell_type": "code",
   "execution_count": 1,
   "metadata": {},
   "outputs": [
    {
     "name": "stdout",
     "output_type": "stream",
     "text": [
      "30\n",
      "20\n",
      "10\n",
      "\n",
      "20\n",
      "10\n",
      "\n"
     ]
    }
   ],
   "source": [
    "class Stack:\n",
    "\n",
    "    def __init__(self):\n",
    "        self.stack=[]\n",
    "\n",
    "    def isEmpty(self):\n",
    "        if len(self.stack)==0:\n",
    "            return True\n",
    "        else:\n",
    "            return False\n",
    "\n",
    "    def push(self,data):\n",
    "        self.stack.append(data)\n",
    "        #print(data,' pushed to stack')\n",
    "\n",
    "    def pop(self):\n",
    "        if len(self.stack)==0:\n",
    "            print('Stack empty! Cannot delete.')\n",
    "            return\n",
    "        return self.stack.pop()\n",
    "\n",
    "    def top(self):\n",
    "        if len(self.stack)==0:\n",
    "            print('Stack is empty')\n",
    "            return\n",
    "        return self.stack[-1]\n",
    "\n",
    "    def display(self):\n",
    "        if len(self.stack)==0:\n",
    "            print('Stack is empty!')\n",
    "            return\n",
    "        top=len(self.stack)-1\n",
    "        while top!=-1:\n",
    "            print(self.stack[top])\n",
    "            top-=1\n",
    "        print()\n",
    "\n",
    "if __name__ == '__main__':\n",
    "    stack=Stack()\n",
    "\n",
    "    stack.push(10)\n",
    "    stack.push(20)\n",
    "    stack.push(30)\n",
    "    stack.display()\n",
    "    stack.pop()\n",
    "    stack.display()\n"
   ]
  },
  {
   "cell_type": "markdown",
   "metadata": {},
   "source": [
    "Pros: Easy to implement. Memory is saved as pointers are not involved. \n",
    "\n",
    "Cons: It is not dynamic. It doesn’t grow and shrink depending on needs at runtime."
   ]
  },
  {
   "cell_type": "markdown",
   "metadata": {},
   "source": [
    "# Using Linked List"
   ]
  },
  {
   "cell_type": "markdown",
   "metadata": {},
   "source": [
    "Insert at start and delete from start"
   ]
  },
  {
   "cell_type": "code",
   "execution_count": 2,
   "metadata": {},
   "outputs": [
    {
     "name": "stdout",
     "output_type": "stream",
     "text": [
      "True\n",
      "Stack is empty!\n",
      "20\n",
      "20 10 \n",
      "10 \n",
      "10\n"
     ]
    }
   ],
   "source": [
    "import gc\n",
    "class Node:\n",
    "    def __init__(self,data):\n",
    "        self.data=data\n",
    "        self.next=None\n",
    "\n",
    "class Stack:\n",
    "    def __init__(self):\n",
    "        self.head=None\n",
    "\n",
    "    def isEmpty(self):\n",
    "        if self.head is None:\n",
    "            return True\n",
    "        return False\n",
    "\n",
    "    def push(self,data):\n",
    "        temp=Node(data)\n",
    "        if self.head is None:\n",
    "            self.head=temp\n",
    "            return\n",
    "        temp.next=self.head\n",
    "        self.head=temp\n",
    "\n",
    "    def pop(self):\n",
    "        if self.head is None:\n",
    "            print('Stack is empty!')\n",
    "            return\n",
    "        free=self.head\n",
    "        self.head=self.head.next\n",
    "        free=None\n",
    "        gc.collect()\n",
    "\n",
    "    def top(self):\n",
    "        if self.head is None:\n",
    "            print('Stack is empty')\n",
    "            return\n",
    "        print(self.head.data)\n",
    "\n",
    "    def traverse(self):\n",
    "        if self.head is None:\n",
    "            print('Stack is empty')\n",
    "            return\n",
    "        temp=self.head\n",
    "        while temp:\n",
    "            print(temp.data,end=\" \")\n",
    "            temp=temp.next\n",
    "        print()\n",
    "\n",
    "if __name__ == '__main__':\n",
    "    stack=Stack()\n",
    "    print(stack.isEmpty() )\n",
    "    stack.pop()\n",
    "    stack.push(10)\n",
    "    stack.push(20)\n",
    "    stack.top()\n",
    "    stack.traverse()\n",
    "    stack.pop()\n",
    "    stack.traverse()\n",
    "    stack.top()\n"
   ]
  },
  {
   "cell_type": "markdown",
   "metadata": {},
   "source": [
    "Pros: The linked list implementation of stack can grow and shrink according to the needs at runtime. \n",
    "\n",
    "Cons: Requires extra memory due to involvement of pointers."
   ]
  },
  {
   "cell_type": "code",
   "execution_count": null,
   "metadata": {},
   "outputs": [],
   "source": []
  },
  {
   "cell_type": "markdown",
   "metadata": {},
   "source": [
    "# Design and Implementation"
   ]
  },
  {
   "cell_type": "markdown",
   "metadata": {},
   "source": [
    "# Queue using Stacks"
   ]
  },
  {
   "cell_type": "markdown",
   "metadata": {},
   "source": [
    "A queue can be implemented using two stacks"
   ]
  },
  {
   "cell_type": "markdown",
   "metadata": {},
   "source": [
    "Method 1 (By making enQueue operation costly) This method makes sure that oldest entered element is always at the top of stack 1, so that deQueue operation just pops from stack1. To put the element at top of stack1, stack2 is used."
   ]
  },
  {
   "cell_type": "markdown",
   "metadata": {},
   "source": [
    "Enqueue-\n",
    "\n",
    "While stack1 is not empty, push everything from stack1 to stack2.\n",
    "\n",
    "Push x to stack1 (assuming size of stacks is unlimited).\n",
    "\n",
    "Push everything back to stack1."
   ]
  },
  {
   "cell_type": "markdown",
   "metadata": {},
   "source": [
    "deQueue-\n",
    "\n",
    "If stack1 is empty then error\n",
    "\n",
    "Pop an item from stack1 and return it"
   ]
  },
  {
   "cell_type": "code",
   "execution_count": 1,
   "metadata": {},
   "outputs": [
    {
     "name": "stdout",
     "output_type": "stream",
     "text": [
      "3 2 1 \n",
      "3 2 \n"
     ]
    }
   ],
   "source": [
    "class Queue:\n",
    "    def __init__(self):\n",
    "        self.stack1=[]\n",
    "        self.stack2=[]\n",
    "\n",
    "    def enqueue(self,data):\n",
    "        while len(self.stack1):\n",
    "            self.stack2.append(self.stack1.pop())\n",
    "\n",
    "        self.stack2.append(data)\n",
    "\n",
    "        while len(self.stack2):\n",
    "            self.stack1.append(self.stack2.pop())\n",
    "\n",
    "    def dequeue(self):\n",
    "        if len(self.stack1)==0:\n",
    "            print('Queue is empty')\n",
    "            return\n",
    "        return self.stack1.pop()\n",
    "\n",
    "    def traverse(self):\n",
    "        if len(self.stack1)==0:\n",
    "            print('Queue is empty!')\n",
    "            return\n",
    "        for i in self.stack1:\n",
    "            print(i,end=\" \")\n",
    "        print()\n",
    "\n",
    "if __name__ == '__main__':\n",
    "    q=Queue()\n",
    "    q.enqueue(1)\n",
    "    q.enqueue(2)\n",
    "    q.enqueue(3)\n",
    "    q.traverse()\n",
    "    q.dequeue()\n",
    "    q.traverse()"
   ]
  },
  {
   "cell_type": "markdown",
   "metadata": {},
   "source": [
    "Time Complexity:\n",
    "    \n",
    "Push operation: O(N).\n",
    "In the worst case we have empty whole of stack 1 into stack 2.\n",
    "\n",
    "Pop operation: O(1).\n",
    "Same as pop operation in stack.\n",
    "\n",
    "Auxiliary Space: O(N).\n",
    "Use of stack for storing values."
   ]
  },
  {
   "cell_type": "markdown",
   "metadata": {},
   "source": [
    "Method 2 (By making deQueue operation costly) - In this method, in en-queue operation, the new element is entered at the top of stack1. In de-queue operation, if stack2 is empty then all the elements are moved to stack2 and finally top of stack2 is returned"
   ]
  },
  {
   "cell_type": "code",
   "execution_count": 2,
   "metadata": {},
   "outputs": [
    {
     "name": "stdout",
     "output_type": "stream",
     "text": [
      "2 3 4 5 \n"
     ]
    }
   ],
   "source": [
    "class Queue:\n",
    "    def __init__(self):\n",
    "        self.stack1=[]\n",
    "        self.stack2=[]\n",
    "\n",
    "    def enqueue(self,data):\n",
    "        self.stack1.append(data)\n",
    "\n",
    "    def dequeue(self):\n",
    "        if len(self.stack1)==0 and len(self.stack2)==0:\n",
    "            print('Queue is empty')\n",
    "            return\n",
    "        if len(self.stack2)==0:\n",
    "            while len(self.stack1):\n",
    "                self.stack2.append(self.stack1.pop())\n",
    "            return self.stack2.pop()\n",
    "        return self.stack2.pop()\n",
    "\n",
    "    def isEmpty(self):\n",
    "        if len(self.stack1)==0 and len(self.stack2)==0:\n",
    "            return True\n",
    "        return False\n",
    "\n",
    "    def traverse(self):\n",
    "        if len(self.stack1)==0 and len(self.stack2)==0:\n",
    "            print('Queue is empty')\n",
    "            return\n",
    "        if len(self.stack2)!=0:\n",
    "            i=len(self.stack2)-1\n",
    "            while i>=0:\n",
    "                print(self.stack2[i],end=\" \")\n",
    "                i-=1\n",
    "        for i in self.stack1:\n",
    "            print(i,end=\" \")\n",
    "        print()\n",
    "\n",
    "\n",
    "if __name__ == '__main__':\n",
    "    q=Queue()\n",
    "    q.enqueue(1)\n",
    "    q.enqueue(2)\n",
    "    q.enqueue(3)\n",
    "    q.dequeue()\n",
    "    q.enqueue(4)\n",
    "    q.enqueue(5)\n",
    "    q.traverse()\n"
   ]
  },
  {
   "cell_type": "markdown",
   "metadata": {},
   "source": [
    "Method 2 is definitely better than method 1.\n",
    "\n",
    "Method 1 moves all the elements twice in enQueue operation, while method 2 (in deQueue operation) moves the elements once and moves elements only if stack2 empty. So, the amortized complexity of the dequeue operation becomes  \\Theta (1) .\n"
   ]
  },
  {
   "cell_type": "markdown",
   "metadata": {},
   "source": [
    "Time Complexity:\n",
    "\n",
    "Push operation: O(1).\n",
    "Same as pop operation in stack.\n",
    "\n",
    "Pop operation: O(N).\n",
    "In the worst case we have empty whole of stack 1 into stack 2\n",
    "\n",
    "Auxiliary Space: O(N).\n",
    "Use of stack for storing values."
   ]
  },
  {
   "cell_type": "markdown",
   "metadata": {},
   "source": [
    "# Queue can also be implemented using one user stack and one Function Call Stack"
   ]
  },
  {
   "cell_type": "markdown",
   "metadata": {},
   "source": [
    "enQueue(x)\n",
    "  1) Push x to stack1.\n",
    "\n",
    "deQueue:\n",
    "    \n",
    "  1) If stack1 is empty then error.\n",
    "  2) If stack1 has only one element then return it.\n",
    "  3) Recursively pop everything from the stack1, store the popped item \n",
    "    in a variable res,  push the res back to stack1 and return res"
   ]
  },
  {
   "cell_type": "code",
   "execution_count": 3,
   "metadata": {},
   "outputs": [
    {
     "name": "stdout",
     "output_type": "stream",
     "text": [
      "1 2 \n",
      "2 \n"
     ]
    }
   ],
   "source": [
    "#Implementing queue using a user stack and a function call stack\n",
    "class Queue:\n",
    "    def __init__(self):\n",
    "        self.stack=[]\n",
    "    def enqueue(self,data):\n",
    "        self.stack.append(data)\n",
    "\n",
    "    def dequeue(self):\n",
    "        if len(self.stack)==0:\n",
    "            print('Queue is empty')\n",
    "            return\n",
    "        if len(self.stack)==1:\n",
    "            return self.stack.pop()\n",
    "        x=self.stack.pop()\n",
    "        res=self.dequeue()\n",
    "        self.stack.append(x)\n",
    "        return res\n",
    "\n",
    "    def traverse(self):\n",
    "        if len(self.stack)==0:\n",
    "            print('Stack is empty')\n",
    "            return\n",
    "        for i in self.stack:\n",
    "            print(i,end=\" \")\n",
    "        print()\n",
    "\n",
    "if __name__ == '__main__':\n",
    "    q=Queue()\n",
    "    q.enqueue(1)\n",
    "    q.enqueue(2)\n",
    "    q.traverse()\n",
    "    q.dequeue()\n",
    "    q.traverse()\n"
   ]
  },
  {
   "cell_type": "markdown",
   "metadata": {},
   "source": [
    "# Design and Implement Special Stack Data Structure"
   ]
  },
  {
   "cell_type": "markdown",
   "metadata": {},
   "source": [
    "Design a Data Structure SpecialStack that supports all the stack operations like push(), pop(), isEmpty(), isFull() and an additional operation getMin() which should return minimum element from the SpecialStack. All these operations of SpecialStack must be O(1). "
   ]
  },
  {
   "cell_type": "markdown",
   "metadata": {},
   "source": [
    "<strong>Use two stacks</strong>: one to store actual stack elements and the other as an auxiliary stack to store minimum values. The idea is to do push() and pop() operations in such a way that the top of the auxiliary stack is always the minimum."
   ]
  },
  {
   "cell_type": "markdown",
   "metadata": {},
   "source": [
    "<pre>\n",
    "Push(x) // inserts an element x to Special Stack \n",
    "1) push x to the first stack (the stack with actual elements) \n",
    "2) compare x with the top element of the second stack (the auxiliary stack). Let the top element be y. \n",
    "…..a) If x is smaller than y then push x to the auxiliary stack. \n",
    "…..b) If x is greater than y then push y to the auxiliary stack.\n",
    "\n",
    "\n",
    "Pop() // removes an element from Special Stack and return the removed element \n",
    "1) pop the top element from the auxiliary stack. \n",
    "2) pop the top element from the actual stack and return it.\n",
    "The step 1 is necessary to make sure that the auxiliary stack is also updated for future operations.\n",
    "int getMin() // returns the minimum element from Special Stack \n",
    "1) Return the top element of the auxiliary stack.\n",
    "We can see that all the above operations are O(1). \n",
    "</pre>"
   ]
  },
  {
   "cell_type": "code",
   "execution_count": 5,
   "metadata": {},
   "outputs": [
    {
     "name": "stdout",
     "output_type": "stream",
     "text": [
      "True\n",
      "1\n"
     ]
    }
   ],
   "source": [
    "class Stack:\n",
    "\n",
    "    def __init__(self):\n",
    "        self.stack=[]\n",
    "        self.aux=[]\n",
    "\n",
    "    def isEmpty(self):\n",
    "        if len(self.stack)==0:\n",
    "            return True\n",
    "        return False\n",
    "\n",
    "    def push(self,data):\n",
    "        if self.isEmpty():\n",
    "            self.stack.append(data)\n",
    "            self.aux.append(data)\n",
    "            return\n",
    "        self.stack.append(data)\n",
    "        self.aux.append(min(self.stack[-1],self.aux[-1]))\n",
    "\n",
    "    def pop(self):\n",
    "        if len(self.stack)==0:\n",
    "            print('Stack is empty. Cannot delete!')\n",
    "            return\n",
    "        self.aux.pop()\n",
    "        return self.stack.pop()\n",
    "\n",
    "    def getMin(self):\n",
    "        if len(self.aux) ==0:\n",
    "            print('Stack is empty!')\n",
    "            return\n",
    "        print(self.aux[-1])\n",
    "\n",
    "if __name__ == '__main__':\n",
    "    stack=Stack()\n",
    "    print(stack.isEmpty())\n",
    "    stack.push(18)\n",
    "    stack.push(19)\n",
    "    stack.push(1)\n",
    "    stack.push(29)\n",
    "    stack.push(15)\n",
    "    stack.push(16)\n",
    "\n",
    "    stack.getMin()"
   ]
  },
  {
   "cell_type": "markdown",
   "metadata": {},
   "source": [
    "Space Optimized Approach-> Push element in auxiliary stack only if the incoming data is less than the top of aux stack and pop the element from auxiliary stack only if the top of aux stack is equal to the data getting popped from the original stack"
   ]
  },
  {
   "cell_type": "code",
   "execution_count": 6,
   "metadata": {},
   "outputs": [
    {
     "name": "stdout",
     "output_type": "stream",
     "text": [
      "True\n",
      "1\n"
     ]
    }
   ],
   "source": [
    "class Stack:\n",
    "\n",
    "    def __init__(self):\n",
    "        self.stack=[]\n",
    "        self.aux=[]\n",
    "\n",
    "    def isEmpty(self):\n",
    "        if len(self.stack)==0:\n",
    "            return True\n",
    "        return False\n",
    "\n",
    "    def push(self,data):\n",
    "        if self.isEmpty():\n",
    "            self.stack.append(data)\n",
    "            self.aux.append(data)\n",
    "            return\n",
    "        self.stack.append(data)\n",
    "        if data<self.aux[-1]:\n",
    "            self.aux.append(data)\n",
    "\n",
    "    def pop(self):\n",
    "        if len(self.stack)==0:\n",
    "            print('Stack is empty. Cannot delete!')\n",
    "            return\n",
    "        x=self.stack.pop()\n",
    "        if x==self.aux[-1]:\n",
    "            self.aux.pop()\n",
    "        return x\n",
    "\n",
    "    def getMin(self):\n",
    "        if len(self.aux) ==0:\n",
    "            print('Stack is empty!')\n",
    "            return\n",
    "        print(self.aux[-1])\n",
    "\n",
    "if __name__ == '__main__':\n",
    "    stack=Stack()\n",
    "    print(stack.isEmpty())\n",
    "    stack.push(18)\n",
    "    stack.push(19)\n",
    "    stack.push(1)\n",
    "    stack.push(29)\n",
    "    stack.push(15)\n",
    "    stack.push(16)\n",
    "    stack.getMin()\n"
   ]
  },
  {
   "cell_type": "markdown",
   "metadata": {},
   "source": [
    "# Implement two stacks in an array"
   ]
  },
  {
   "cell_type": "markdown",
   "metadata": {},
   "source": [
    "One approach could be to allocate 2 halves to the arrays, but this could result in overflow even if we have space to accomodate elements"
   ]
  },
  {
   "cell_type": "markdown",
   "metadata": {},
   "source": [
    "The problem with this method is inefficient use of array space. A stack push operation may result in stack overflow even if there is space available in arr[]. For example, say the array size is 6 and we push 3 elements to stack1 and do not push anything to second stack2. When we push 4th element to stack1, there will be overflow even if we have space for 3 more elements in array."
   ]
  },
  {
   "cell_type": "markdown",
   "metadata": {},
   "source": [
    "Approach 2-> This method efficiently utilizes the available space. It doesn’t cause an overflow if there is space available in arr[]. The idea is to start two stacks from two extreme corners of arr[]. stack1 starts from the leftmost element, the first element in stack1 is pushed at index 0. The stack2 starts from the rightmost corner, the first element in stack2 is pushed at index (n-1). Both stacks grow (or shrink) in opposite direction. To check for overflow, all we need to check is for space between top elements of both stacks"
   ]
  },
  {
   "cell_type": "code",
   "execution_count": 7,
   "metadata": {},
   "outputs": [
    {
     "name": "stdout",
     "output_type": "stream",
     "text": [
      "11\n",
      "40\n"
     ]
    }
   ],
   "source": [
    "class TwoStack:\n",
    "    def __init__(self,size):\n",
    "        self.stack=[None]*size\n",
    "        self.size=size\n",
    "        self.top1=-1\n",
    "        self.top2=self.size\n",
    "\n",
    "    def push1(self,data):\n",
    "        if self.top1<self.top2-1:\n",
    "            self.top1+=1\n",
    "            self.stack[self.top1]=data\n",
    "        else:\n",
    "            print('Stack Overflow')\n",
    "            return\n",
    "\n",
    "    def push2(self,data):\n",
    "        if self.top1<self.top2-1:\n",
    "            self.top2-=1\n",
    "            self.stack[self.top2]=data\n",
    "        else:\n",
    "            print('Stack Overflow')\n",
    "            return\n",
    "\n",
    "    def pop1(self):\n",
    "        if self.top1>=0:\n",
    "            x=self.stack[self.top1]\n",
    "            self.top1-=1\n",
    "            return x\n",
    "        else:\n",
    "            print('Stack Underflow')\n",
    "            return\n",
    "\n",
    "    def pop2(self):\n",
    "        if self.top2<self.size:\n",
    "            x=self.stack[self.top2]\n",
    "            self.top2+=1\n",
    "            return x\n",
    "        else:\n",
    "            print('Stack Underflow')\n",
    "            return\n",
    "\n",
    "if __name__ == '__main__':\n",
    "    ts=TwoStack(5)\n",
    "    ts.push1(5)\n",
    "    ts.push2(10)\n",
    "    ts.push2(15)\n",
    "    ts.push1(11)\n",
    "    ts.push2(7)\n",
    "    print(ts.pop1())\n",
    "    ts.push2(40)\n",
    "    print(ts.pop2())\n"
   ]
  },
  {
   "cell_type": "markdown",
   "metadata": {},
   "source": [
    "Time Complexity -> Push - O(1) Pop - (1) and Space Complexity O(n)"
   ]
  },
  {
   "cell_type": "markdown",
   "metadata": {},
   "source": [
    "# Implement Stack using Queues"
   ]
  },
  {
   "cell_type": "code",
   "execution_count": null,
   "metadata": {},
   "outputs": [],
   "source": []
  }
 ],
 "metadata": {
  "kernelspec": {
   "display_name": "Python 3",
   "language": "python",
   "name": "python3"
  },
  "language_info": {
   "codemirror_mode": {
    "name": "ipython",
    "version": 3
   },
   "file_extension": ".py",
   "mimetype": "text/x-python",
   "name": "python",
   "nbconvert_exporter": "python",
   "pygments_lexer": "ipython3",
   "version": "3.7.6"
  }
 },
 "nbformat": 4,
 "nbformat_minor": 4
}
