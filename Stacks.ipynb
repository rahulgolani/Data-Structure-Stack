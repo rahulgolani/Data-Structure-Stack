{
 "cells": [
  {
   "cell_type": "markdown",
   "metadata": {},
   "source": [
    "Stack is a linear data structure which follows a particular order in which the operations are performed. The order is LIFO."
   ]
  },
  {
   "cell_type": "markdown",
   "metadata": {},
   "source": [
    "Operations : push(), pop(), isEmpty() and peek()"
   ]
  },
  {
   "cell_type": "markdown",
   "metadata": {},
   "source": [
    "Applications\n",
    "\n",
    "Balancing of Symbols\n",
    "\n",
    "Infix to Postfix/Prefix\n",
    "\n",
    "Redo/Undo\n",
    "\n",
    "Forward/Backward\n",
    "\n",
    "Backtracking\n",
    "\n",
    "Graph Algo - Topological Sorting/ SCC\n",
    "\n",
    "String Reversals\n",
    "\n",
    "Memory Management\n"
   ]
  },
  {
   "cell_type": "markdown",
   "metadata": {},
   "source": [
    "# Implementation"
   ]
  },
  {
   "cell_type": "markdown",
   "metadata": {},
   "source": [
    "# Using Array"
   ]
  },
  {
   "cell_type": "code",
   "execution_count": 1,
   "metadata": {},
   "outputs": [
    {
     "name": "stdout",
     "output_type": "stream",
     "text": [
      "30\n",
      "20\n",
      "10\n",
      "\n",
      "20\n",
      "10\n",
      "\n"
     ]
    }
   ],
   "source": [
    "class Stack:\n",
    "\n",
    "    def __init__(self):\n",
    "        self.stack=[]\n",
    "\n",
    "    def isEmpty(self):\n",
    "        if len(self.stack)==0:\n",
    "            return True\n",
    "        else:\n",
    "            return False\n",
    "\n",
    "    def push(self,data):\n",
    "        self.stack.append(data)\n",
    "        #print(data,' pushed to stack')\n",
    "\n",
    "    def pop(self):\n",
    "        if len(self.stack)==0:\n",
    "            print('Stack empty! Cannot delete.')\n",
    "            return\n",
    "        return self.stack.pop()\n",
    "\n",
    "    def top(self):\n",
    "        if len(self.stack)==0:\n",
    "            print('Stack is empty')\n",
    "            return\n",
    "        return self.stack[-1]\n",
    "\n",
    "    def display(self):\n",
    "        if len(self.stack)==0:\n",
    "            print('Stack is empty!')\n",
    "            return\n",
    "        top=len(self.stack)-1\n",
    "        while top!=-1:\n",
    "            print(self.stack[top])\n",
    "            top-=1\n",
    "        print()\n",
    "\n",
    "if __name__ == '__main__':\n",
    "    stack=Stack()\n",
    "\n",
    "    stack.push(10)\n",
    "    stack.push(20)\n",
    "    stack.push(30)\n",
    "    stack.display()\n",
    "    stack.pop()\n",
    "    stack.display()\n"
   ]
  },
  {
   "cell_type": "markdown",
   "metadata": {},
   "source": [
    "Pros: Easy to implement. Memory is saved as pointers are not involved. \n",
    "\n",
    "Cons: It is not dynamic. It doesn’t grow and shrink depending on needs at runtime."
   ]
  },
  {
   "cell_type": "markdown",
   "metadata": {},
   "source": [
    "# Using Linked List"
   ]
  },
  {
   "cell_type": "markdown",
   "metadata": {},
   "source": [
    "Insert at start and delete from start"
   ]
  },
  {
   "cell_type": "code",
   "execution_count": 2,
   "metadata": {},
   "outputs": [
    {
     "name": "stdout",
     "output_type": "stream",
     "text": [
      "True\n",
      "Stack is empty!\n",
      "20\n",
      "20 10 \n",
      "10 \n",
      "10\n"
     ]
    }
   ],
   "source": [
    "import gc\n",
    "class Node:\n",
    "    def __init__(self,data):\n",
    "        self.data=data\n",
    "        self.next=None\n",
    "\n",
    "class Stack:\n",
    "    def __init__(self):\n",
    "        self.head=None\n",
    "\n",
    "    def isEmpty(self):\n",
    "        if self.head is None:\n",
    "            return True\n",
    "        return False\n",
    "\n",
    "    def push(self,data):\n",
    "        temp=Node(data)\n",
    "        if self.head is None:\n",
    "            self.head=temp\n",
    "            return\n",
    "        temp.next=self.head\n",
    "        self.head=temp\n",
    "\n",
    "    def pop(self):\n",
    "        if self.head is None:\n",
    "            print('Stack is empty!')\n",
    "            return\n",
    "        free=self.head\n",
    "        self.head=self.head.next\n",
    "        free=None\n",
    "        gc.collect()\n",
    "\n",
    "    def top(self):\n",
    "        if self.head is None:\n",
    "            print('Stack is empty')\n",
    "            return\n",
    "        print(self.head.data)\n",
    "\n",
    "    def traverse(self):\n",
    "        if self.head is None:\n",
    "            print('Stack is empty')\n",
    "            return\n",
    "        temp=self.head\n",
    "        while temp:\n",
    "            print(temp.data,end=\" \")\n",
    "            temp=temp.next\n",
    "        print()\n",
    "\n",
    "if __name__ == '__main__':\n",
    "    stack=Stack()\n",
    "    print(stack.isEmpty() )\n",
    "    stack.pop()\n",
    "    stack.push(10)\n",
    "    stack.push(20)\n",
    "    stack.top()\n",
    "    stack.traverse()\n",
    "    stack.pop()\n",
    "    stack.traverse()\n",
    "    stack.top()\n"
   ]
  },
  {
   "cell_type": "markdown",
   "metadata": {},
   "source": [
    "Pros: The linked list implementation of stack can grow and shrink according to the needs at runtime. \n",
    "\n",
    "Cons: Requires extra memory due to involvement of pointers."
   ]
  },
  {
   "cell_type": "code",
   "execution_count": null,
   "metadata": {},
   "outputs": [],
   "source": []
  },
  {
   "cell_type": "markdown",
   "metadata": {},
   "source": [
    "# Design and Implementation"
   ]
  },
  {
   "cell_type": "markdown",
   "metadata": {},
   "source": [
    "# Queue using Stacks"
   ]
  },
  {
   "cell_type": "markdown",
   "metadata": {},
   "source": [
    "A queue can be implemented using two stacks"
   ]
  },
  {
   "cell_type": "markdown",
   "metadata": {},
   "source": [
    "Method 1 (By making enQueue operation costly) This method makes sure that oldest entered element is always at the top of stack 1, so that deQueue operation just pops from stack1. To put the element at top of stack1, stack2 is used."
   ]
  },
  {
   "cell_type": "markdown",
   "metadata": {},
   "source": [
    "Enqueue-\n",
    "\n",
    "While stack1 is not empty, push everything from stack1 to stack2.\n",
    "\n",
    "Push x to stack1 (assuming size of stacks is unlimited).\n",
    "\n",
    "Push everything back to stack1."
   ]
  },
  {
   "cell_type": "markdown",
   "metadata": {},
   "source": [
    "deQueue-\n",
    "\n",
    "If stack1 is empty then error\n",
    "\n",
    "Pop an item from stack1 and return it"
   ]
  },
  {
   "cell_type": "code",
   "execution_count": 1,
   "metadata": {},
   "outputs": [
    {
     "name": "stdout",
     "output_type": "stream",
     "text": [
      "3 2 1 \n",
      "3 2 \n"
     ]
    }
   ],
   "source": [
    "class Queue:\n",
    "    def __init__(self):\n",
    "        self.stack1=[]\n",
    "        self.stack2=[]\n",
    "\n",
    "    def enqueue(self,data):\n",
    "        while len(self.stack1):\n",
    "            self.stack2.append(self.stack1.pop())\n",
    "\n",
    "        self.stack2.append(data)\n",
    "\n",
    "        while len(self.stack2):\n",
    "            self.stack1.append(self.stack2.pop())\n",
    "\n",
    "    def dequeue(self):\n",
    "        if len(self.stack1)==0:\n",
    "            print('Queue is empty')\n",
    "            return\n",
    "        return self.stack1.pop()\n",
    "\n",
    "    def traverse(self):\n",
    "        if len(self.stack1)==0:\n",
    "            print('Queue is empty!')\n",
    "            return\n",
    "        for i in self.stack1:\n",
    "            print(i,end=\" \")\n",
    "        print()\n",
    "\n",
    "if __name__ == '__main__':\n",
    "    q=Queue()\n",
    "    q.enqueue(1)\n",
    "    q.enqueue(2)\n",
    "    q.enqueue(3)\n",
    "    q.traverse()\n",
    "    q.dequeue()\n",
    "    q.traverse()"
   ]
  },
  {
   "cell_type": "markdown",
   "metadata": {},
   "source": [
    "Time Complexity:\n",
    "    \n",
    "Push operation: O(N).\n",
    "In the worst case we have empty whole of stack 1 into stack 2.\n",
    "\n",
    "Pop operation: O(1).\n",
    "Same as pop operation in stack.\n",
    "\n",
    "Auxiliary Space: O(N).\n",
    "Use of stack for storing values."
   ]
  },
  {
   "cell_type": "markdown",
   "metadata": {},
   "source": [
    "Method 2 (By making deQueue operation costly) - In this method, in en-queue operation, the new element is entered at the top of stack1. In de-queue operation, if stack2 is empty then all the elements are moved to stack2 and finally top of stack2 is returned"
   ]
  },
  {
   "cell_type": "code",
   "execution_count": 2,
   "metadata": {},
   "outputs": [
    {
     "name": "stdout",
     "output_type": "stream",
     "text": [
      "2 3 4 5 \n"
     ]
    }
   ],
   "source": [
    "class Queue:\n",
    "    def __init__(self):\n",
    "        self.stack1=[]\n",
    "        self.stack2=[]\n",
    "\n",
    "    def enqueue(self,data):\n",
    "        self.stack1.append(data)\n",
    "\n",
    "    def dequeue(self):\n",
    "        if len(self.stack1)==0 and len(self.stack2)==0:\n",
    "            print('Queue is empty')\n",
    "            return\n",
    "        if len(self.stack2)==0:\n",
    "            while len(self.stack1):\n",
    "                self.stack2.append(self.stack1.pop())\n",
    "            return self.stack2.pop()\n",
    "        return self.stack2.pop()\n",
    "\n",
    "    def isEmpty(self):\n",
    "        if len(self.stack1)==0 and len(self.stack2)==0:\n",
    "            return True\n",
    "        return False\n",
    "\n",
    "    def traverse(self):\n",
    "        if len(self.stack1)==0 and len(self.stack2)==0:\n",
    "            print('Queue is empty')\n",
    "            return\n",
    "        if len(self.stack2)!=0:\n",
    "            i=len(self.stack2)-1\n",
    "            while i>=0:\n",
    "                print(self.stack2[i],end=\" \")\n",
    "                i-=1\n",
    "        for i in self.stack1:\n",
    "            print(i,end=\" \")\n",
    "        print()\n",
    "\n",
    "\n",
    "if __name__ == '__main__':\n",
    "    q=Queue()\n",
    "    q.enqueue(1)\n",
    "    q.enqueue(2)\n",
    "    q.enqueue(3)\n",
    "    q.dequeue()\n",
    "    q.enqueue(4)\n",
    "    q.enqueue(5)\n",
    "    q.traverse()\n"
   ]
  },
  {
   "cell_type": "markdown",
   "metadata": {},
   "source": [
    "Method 2 is definitely better than method 1.\n",
    "\n",
    "Method 1 moves all the elements twice in enQueue operation, while method 2 (in deQueue operation) moves the elements once and moves elements only if stack2 empty. So, the amortized complexity of the dequeue operation becomes  \\Theta (1) .\n"
   ]
  },
  {
   "cell_type": "markdown",
   "metadata": {},
   "source": [
    "Time Complexity:\n",
    "\n",
    "Push operation: O(1).\n",
    "Same as pop operation in stack.\n",
    "\n",
    "Pop operation: O(N).\n",
    "In the worst case we have empty whole of stack 1 into stack 2\n",
    "\n",
    "Auxiliary Space: O(N).\n",
    "Use of stack for storing values."
   ]
  },
  {
   "cell_type": "markdown",
   "metadata": {},
   "source": [
    "# Queue can also be implemented using one user stack and one Function Call Stack"
   ]
  },
  {
   "cell_type": "markdown",
   "metadata": {},
   "source": [
    "enQueue(x)\n",
    "  1) Push x to stack1.\n",
    "\n",
    "deQueue:\n",
    "    \n",
    "  1) If stack1 is empty then error.\n",
    "  2) If stack1 has only one element then return it.\n",
    "  3) Recursively pop everything from the stack1, store the popped item \n",
    "    in a variable res,  push the res back to stack1 and return res"
   ]
  },
  {
   "cell_type": "code",
   "execution_count": 3,
   "metadata": {},
   "outputs": [
    {
     "name": "stdout",
     "output_type": "stream",
     "text": [
      "1 2 \n",
      "2 \n"
     ]
    }
   ],
   "source": [
    "#Implementing queue using a user stack and a function call stack\n",
    "class Queue:\n",
    "    def __init__(self):\n",
    "        self.stack=[]\n",
    "    def enqueue(self,data):\n",
    "        self.stack.append(data)\n",
    "\n",
    "    def dequeue(self):\n",
    "        if len(self.stack)==0:\n",
    "            print('Queue is empty')\n",
    "            return\n",
    "        if len(self.stack)==1:\n",
    "            return self.stack.pop()\n",
    "        x=self.stack.pop()\n",
    "        res=self.dequeue()\n",
    "        self.stack.append(x)\n",
    "        return res\n",
    "\n",
    "    def traverse(self):\n",
    "        if len(self.stack)==0:\n",
    "            print('Stack is empty')\n",
    "            return\n",
    "        for i in self.stack:\n",
    "            print(i,end=\" \")\n",
    "        print()\n",
    "\n",
    "if __name__ == '__main__':\n",
    "    q=Queue()\n",
    "    q.enqueue(1)\n",
    "    q.enqueue(2)\n",
    "    q.traverse()\n",
    "    q.dequeue()\n",
    "    q.traverse()\n"
   ]
  },
  {
   "cell_type": "markdown",
   "metadata": {},
   "source": [
    "# Design and Implement Special Stack Data Structure"
   ]
  },
  {
   "cell_type": "markdown",
   "metadata": {},
   "source": [
    "Design a Data Structure SpecialStack that supports all the stack operations like push(), pop(), isEmpty(), isFull() and an additional operation getMin() which should return minimum element from the SpecialStack. All these operations of SpecialStack must be O(1). "
   ]
  },
  {
   "cell_type": "markdown",
   "metadata": {},
   "source": [
    "<strong>Use two stacks</strong>: one to store actual stack elements and the other as an auxiliary stack to store minimum values. The idea is to do push() and pop() operations in such a way that the top of the auxiliary stack is always the minimum."
   ]
  },
  {
   "cell_type": "markdown",
   "metadata": {},
   "source": [
    "<pre>\n",
    "Push(x) // inserts an element x to Special Stack \n",
    "1) push x to the first stack (the stack with actual elements) \n",
    "2) compare x with the top element of the second stack (the auxiliary stack). Let the top element be y. \n",
    "…..a) If x is smaller than y then push x to the auxiliary stack. \n",
    "…..b) If x is greater than y then push y to the auxiliary stack.\n",
    "\n",
    "\n",
    "Pop() // removes an element from Special Stack and return the removed element \n",
    "1) pop the top element from the auxiliary stack. \n",
    "2) pop the top element from the actual stack and return it.\n",
    "The step 1 is necessary to make sure that the auxiliary stack is also updated for future operations.\n",
    "int getMin() // returns the minimum element from Special Stack \n",
    "1) Return the top element of the auxiliary stack.\n",
    "We can see that all the above operations are O(1). \n",
    "</pre>"
   ]
  },
  {
   "cell_type": "code",
   "execution_count": 5,
   "metadata": {},
   "outputs": [
    {
     "name": "stdout",
     "output_type": "stream",
     "text": [
      "True\n",
      "1\n"
     ]
    }
   ],
   "source": [
    "class Stack:\n",
    "\n",
    "    def __init__(self):\n",
    "        self.stack=[]\n",
    "        self.aux=[]\n",
    "\n",
    "    def isEmpty(self):\n",
    "        if len(self.stack)==0:\n",
    "            return True\n",
    "        return False\n",
    "\n",
    "    def push(self,data):\n",
    "        if self.isEmpty():\n",
    "            self.stack.append(data)\n",
    "            self.aux.append(data)\n",
    "            return\n",
    "        self.stack.append(data)\n",
    "        self.aux.append(min(self.stack[-1],self.aux[-1]))\n",
    "\n",
    "    def pop(self):\n",
    "        if len(self.stack)==0:\n",
    "            print('Stack is empty. Cannot delete!')\n",
    "            return\n",
    "        self.aux.pop()\n",
    "        return self.stack.pop()\n",
    "\n",
    "    def getMin(self):\n",
    "        if len(self.aux) ==0:\n",
    "            print('Stack is empty!')\n",
    "            return\n",
    "        print(self.aux[-1])\n",
    "\n",
    "if __name__ == '__main__':\n",
    "    stack=Stack()\n",
    "    print(stack.isEmpty())\n",
    "    stack.push(18)\n",
    "    stack.push(19)\n",
    "    stack.push(1)\n",
    "    stack.push(29)\n",
    "    stack.push(15)\n",
    "    stack.push(16)\n",
    "\n",
    "    stack.getMin()"
   ]
  },
  {
   "cell_type": "markdown",
   "metadata": {},
   "source": [
    "Space Optimized Approach-> Push element in auxiliary stack only if the incoming data is less than the top of aux stack and pop the element from auxiliary stack only if the top of aux stack is equal to the data getting popped from the original stack"
   ]
  },
  {
   "cell_type": "code",
   "execution_count": 6,
   "metadata": {},
   "outputs": [
    {
     "name": "stdout",
     "output_type": "stream",
     "text": [
      "True\n",
      "1\n"
     ]
    }
   ],
   "source": [
    "class Stack:\n",
    "\n",
    "    def __init__(self):\n",
    "        self.stack=[]\n",
    "        self.aux=[]\n",
    "\n",
    "    def isEmpty(self):\n",
    "        if len(self.stack)==0:\n",
    "            return True\n",
    "        return False\n",
    "\n",
    "    def push(self,data):\n",
    "        if self.isEmpty():\n",
    "            self.stack.append(data)\n",
    "            self.aux.append(data)\n",
    "            return\n",
    "        self.stack.append(data)\n",
    "        if data<self.aux[-1]:\n",
    "            self.aux.append(data)\n",
    "\n",
    "    def pop(self):\n",
    "        if len(self.stack)==0:\n",
    "            print('Stack is empty. Cannot delete!')\n",
    "            return\n",
    "        x=self.stack.pop()\n",
    "        if x==self.aux[-1]:\n",
    "            self.aux.pop()\n",
    "        return x\n",
    "\n",
    "    def getMin(self):\n",
    "        if len(self.aux) ==0:\n",
    "            print('Stack is empty!')\n",
    "            return\n",
    "        print(self.aux[-1])\n",
    "\n",
    "if __name__ == '__main__':\n",
    "    stack=Stack()\n",
    "    print(stack.isEmpty())\n",
    "    stack.push(18)\n",
    "    stack.push(19)\n",
    "    stack.push(1)\n",
    "    stack.push(29)\n",
    "    stack.push(15)\n",
    "    stack.push(16)\n",
    "    stack.getMin()\n"
   ]
  },
  {
   "cell_type": "markdown",
   "metadata": {},
   "source": [
    "# Implement two stacks in an array"
   ]
  },
  {
   "cell_type": "markdown",
   "metadata": {},
   "source": [
    "One approach could be to allocate 2 halves to the arrays, but this could result in overflow even if we have space to accomodate elements"
   ]
  },
  {
   "cell_type": "markdown",
   "metadata": {},
   "source": [
    "The problem with this method is inefficient use of array space. A stack push operation may result in stack overflow even if there is space available in arr[]. For example, say the array size is 6 and we push 3 elements to stack1 and do not push anything to second stack2. When we push 4th element to stack1, there will be overflow even if we have space for 3 more elements in array."
   ]
  },
  {
   "cell_type": "markdown",
   "metadata": {},
   "source": [
    "Approach 2-> This method efficiently utilizes the available space. It doesn’t cause an overflow if there is space available in arr[]. The idea is to start two stacks from two extreme corners of arr[]. stack1 starts from the leftmost element, the first element in stack1 is pushed at index 0. The stack2 starts from the rightmost corner, the first element in stack2 is pushed at index (n-1). Both stacks grow (or shrink) in opposite direction. To check for overflow, all we need to check is for space between top elements of both stacks"
   ]
  },
  {
   "cell_type": "code",
   "execution_count": 7,
   "metadata": {},
   "outputs": [
    {
     "name": "stdout",
     "output_type": "stream",
     "text": [
      "11\n",
      "40\n"
     ]
    }
   ],
   "source": [
    "class TwoStack:\n",
    "    def __init__(self,size):\n",
    "        self.stack=[None]*size\n",
    "        self.size=size\n",
    "        self.top1=-1\n",
    "        self.top2=self.size\n",
    "\n",
    "    def push1(self,data):\n",
    "        if self.top1<self.top2-1:\n",
    "            self.top1+=1\n",
    "            self.stack[self.top1]=data\n",
    "        else:\n",
    "            print('Stack Overflow')\n",
    "            return\n",
    "\n",
    "    def push2(self,data):\n",
    "        if self.top1<self.top2-1:\n",
    "            self.top2-=1\n",
    "            self.stack[self.top2]=data\n",
    "        else:\n",
    "            print('Stack Overflow')\n",
    "            return\n",
    "\n",
    "    def pop1(self):\n",
    "        if self.top1>=0:\n",
    "            x=self.stack[self.top1]\n",
    "            self.top1-=1\n",
    "            return x\n",
    "        else:\n",
    "            print('Stack Underflow')\n",
    "            return\n",
    "\n",
    "    def pop2(self):\n",
    "        if self.top2<self.size:\n",
    "            x=self.stack[self.top2]\n",
    "            self.top2+=1\n",
    "            return x\n",
    "        else:\n",
    "            print('Stack Underflow')\n",
    "            return\n",
    "\n",
    "if __name__ == '__main__':\n",
    "    ts=TwoStack(5)\n",
    "    ts.push1(5)\n",
    "    ts.push2(10)\n",
    "    ts.push2(15)\n",
    "    ts.push1(11)\n",
    "    ts.push2(7)\n",
    "    print(ts.pop1())\n",
    "    ts.push2(40)\n",
    "    print(ts.pop2())\n"
   ]
  },
  {
   "cell_type": "markdown",
   "metadata": {},
   "source": [
    "Time Complexity -> Push - O(1) Pop - (1) and Space Complexity O(n)"
   ]
  },
  {
   "cell_type": "markdown",
   "metadata": {},
   "source": [
    "# Implement Stack using Queues"
   ]
  },
  {
   "cell_type": "markdown",
   "metadata": {},
   "source": [
    "Making the Dequeue Operation Costly"
   ]
  },
  {
   "cell_type": "markdown",
   "metadata": {},
   "source": [
    "<pre>\n",
    "In push operation, the new element is always enqueued to q1. In pop() operation, if q2 is empty then all the elements except the last, are moved to q2. Finally the last element is dequeued from q1 and returned.\n",
    "\n",
    "push(s, x) operation:\n",
    "Enqueue x to q1 (assuming size of q1 is unlimited).\n",
    "\n",
    "pop(s) operation:\n",
    "One by one dequeue everything except the last element from q1 and enqueue to q2.\n",
    "Dequeue the last item of q1, the dequeued item is result, store it.\n",
    "Swap the names of q1 and q2\n",
    "Return the item stored in step 2.\n",
    "</pre>"
   ]
  },
  {
   "cell_type": "code",
   "execution_count": 3,
   "metadata": {},
   "outputs": [
    {
     "name": "stdout",
     "output_type": "stream",
     "text": [
      "1 2 3 4 5 \n",
      "1 2 3 4 \n",
      "1 2 3 \n",
      "1 2 \n",
      "1 \n",
      "Stack is empty\n",
      "Stack is empty\n",
      "Stack is empty\n"
     ]
    }
   ],
   "source": [
    "# Dequeue Operation Costly\n",
    "class Queue:\n",
    "    def __init__(self):\n",
    "        self.queue1=[]\n",
    "        self.queue2=[]\n",
    "\n",
    "    def dequeue(self):\n",
    "        if len(self.queue1)==0:\n",
    "            print(\"Stack is empty\")\n",
    "            return\n",
    "        while len(self.queue1)!=1:\n",
    "            self.queue2.append(self.queue1.pop(0))\n",
    "        value=self.queue1.pop(0)\n",
    "\n",
    "        temp=self.queue1\n",
    "        self.queue1=self.queue2\n",
    "        self.queue2=temp\n",
    "        return value\n",
    "\n",
    "    def enqueue(self,data):\n",
    "        self.queue1.append(data)\n",
    "\n",
    "    def traverse(self):\n",
    "        if len(self.queue1)==0:\n",
    "            print(\"Stack is empty\")\n",
    "            return\n",
    "        for i in range(len(self.queue1)):\n",
    "            print(self.queue1[i],end=\" \")\n",
    "        print()\n",
    "\n",
    "\n",
    "if __name__ == '__main__':\n",
    "    stack=Queue()\n",
    "    stack.enqueue(1)\n",
    "    stack.enqueue(2)\n",
    "    stack.enqueue(3)\n",
    "    stack.enqueue(4)\n",
    "    stack.enqueue(5)\n",
    "    stack.traverse()\n",
    "    stack.dequeue()\n",
    "    stack.traverse()\n",
    "    stack.dequeue()\n",
    "    stack.traverse()\n",
    "    stack.dequeue()\n",
    "    stack.traverse()\n",
    "    stack.dequeue()\n",
    "    stack.traverse()\n",
    "    stack.dequeue()\n",
    "    stack.traverse()\n",
    "    stack.dequeue()\n",
    "    stack.traverse()\n"
   ]
  },
  {
   "cell_type": "markdown",
   "metadata": {},
   "source": [
    "Making Enqueue Operation Costly"
   ]
  },
  {
   "cell_type": "markdown",
   "metadata": {},
   "source": [
    "<pre>\n",
    "push(s, x) operation’s step are described below:\n",
    "Enqueue x to q2\n",
    "One by one dequeue everything from q1 and enqueue to q2.\n",
    "Swap the names of q1 and q2\n",
    "\n",
    "pop(s) operation’s function are described below:\n",
    "Dequeue an item from q1 and return it.\n",
    "</pre>"
   ]
  },
  {
   "cell_type": "code",
   "execution_count": 4,
   "metadata": {},
   "outputs": [
    {
     "name": "stdout",
     "output_type": "stream",
     "text": [
      "1 2 3 4 5 \n",
      "1 2 3 4 \n",
      "1 2 3 \n",
      "1 2 \n",
      "1 \n",
      "Stack is empty\n",
      "Stack is empty\n",
      "Stack is empty\n"
     ]
    }
   ],
   "source": [
    "# Enqueue Operation Costly\n",
    "class Queue:\n",
    "    def __init__(self):\n",
    "        self.queue1=[]\n",
    "        self.queue2=[]\n",
    "\n",
    "    def dequeue(self):\n",
    "        if len(self.queue1)==0:\n",
    "            print(\"Stack is empty\")\n",
    "            return\n",
    "        return self.queue1.pop(0)\n",
    "\n",
    "\n",
    "    def enqueue(self,data):\n",
    "        if len(self.queue1)==0:\n",
    "            self.queue1.append(data)\n",
    "            return\n",
    "        self.queue2.append(data)\n",
    "        while self.queue1:\n",
    "            self.queue2.append(self.queue1.pop(0))\n",
    "        temp=self.queue1\n",
    "        self.queue1=self.queue2\n",
    "        self.queue2=temp\n",
    "\n",
    "    def traverse(self):\n",
    "        if len(self.queue1)==0:\n",
    "            print(\"Stack is empty\")\n",
    "            return\n",
    "        for i in range(len(self.queue1)-1,-1,-1):\n",
    "            print(self.queue1[i],end=\" \")\n",
    "        print()\n",
    "\n",
    "\n",
    "if __name__ == '__main__':\n",
    "    stack=Queue()\n",
    "    stack.enqueue(1)\n",
    "    stack.enqueue(2)\n",
    "    stack.enqueue(3)\n",
    "    stack.enqueue(4)\n",
    "    stack.enqueue(5)\n",
    "    stack.traverse()\n",
    "    stack.dequeue()\n",
    "    stack.traverse()\n",
    "    stack.dequeue()\n",
    "    stack.traverse()\n",
    "    stack.dequeue()\n",
    "    stack.traverse()\n",
    "    stack.dequeue()\n",
    "    stack.traverse()\n",
    "    stack.dequeue()\n",
    "    stack.traverse()\n",
    "    stack.dequeue()\n",
    "    stack.traverse()\n"
   ]
  },
  {
   "cell_type": "markdown",
   "metadata": {},
   "source": [
    "# Design a stack with operations on middle element"
   ]
  },
  {
   "cell_type": "markdown",
   "metadata": {},
   "source": [
    "How to implement a stack which will support following operations in O(1) time complexity?\n",
    "\n",
    "1) push() which adds an element to the top of stack.\n",
    "\n",
    "2) pop() which removes an element from top of stack.\n",
    "\n",
    "3) findMiddle() which will return middle element of the stack.\n",
    "\n",
    "4) deleteMiddle() which will delete the middle element.\n"
   ]
  },
  {
   "cell_type": "markdown",
   "metadata": {},
   "source": [
    "The important question is, whether to use a linked list or array for implementation of stack?\n",
    "\n",
    "We need to find and delete middle element. \n",
    "\n",
    "Deleting an element from middle is not O(1) for array. Also, we may need to move the middle pointer up when we push an element and move down when we pop(). In singly linked list, moving middle pointer in both directions is not possible.\n",
    "\n",
    "The idea is to use Doubly Linked List (DLL). We can delete middle element in O(1) time by maintaining mid pointer. We can move mid pointer in both directions using previous and next pointers.m"
   ]
  },
  {
   "cell_type": "code",
   "execution_count": 5,
   "metadata": {},
   "outputs": [
    {
     "name": "stdout",
     "output_type": "stream",
     "text": [
      "4 3 2 1 \n",
      "2\n",
      "5 4 3 2 1 \n",
      "3\n",
      "4 3 2 1 \n",
      "2\n",
      "6 5 4 3 2 1 \n",
      "3\n",
      "6 5 4 2 1 \n",
      "4\n",
      "6 5 2 1 \n",
      "2\n",
      "6 5 1 \n",
      "5\n",
      "6 1 \n",
      "1\n",
      "6 \n",
      "6\n",
      "-------------------\n",
      "6 \n",
      "Stack is empty\n",
      "Stack is empty\n",
      "--------------------\n",
      "1 \n",
      "1\n",
      "2 1 \n",
      "1\n",
      "3 2 1 \n",
      "2\n"
     ]
    }
   ],
   "source": [
    "class Node:\n",
    "    def __init__(self,data):\n",
    "        self.data=data\n",
    "        self.next=None\n",
    "        self.prev=None\n",
    "\n",
    "class LinkedList:\n",
    "    def __init__(self):\n",
    "        self.head=None\n",
    "        self.middle=None\n",
    "        self.count=0\n",
    "\n",
    "    def push(self,data):\n",
    "        curr=Node(data)\n",
    "        if self.head is None:\n",
    "            self.head=curr\n",
    "            self.count+=1\n",
    "            self.middle=curr\n",
    "            return\n",
    "        curr.next=self.head\n",
    "        self.head.prev=curr\n",
    "        self.head=curr\n",
    "        self.count+=1\n",
    "        if self.count%2==1:\n",
    "            self.middle=self.middle.prev\n",
    "\n",
    "    def pop(self):\n",
    "        if self.head is None:\n",
    "            print(\"Stack is empty\")\n",
    "            return\n",
    "        self.count-=1\n",
    "        value=self.head\n",
    "        self.head=self.head.next\n",
    "        if self.head:\n",
    "            self.head.prev=None\n",
    "        if self.count%2==0:\n",
    "            self.middle=self.middle.next\n",
    "        return value.data\n",
    "\n",
    "    def traverse(self):\n",
    "        if self.head is None:\n",
    "            print(\"Stack is empty\")\n",
    "            return\n",
    "        curr=self.head\n",
    "        while curr:\n",
    "            print(curr.data,end=\" \")\n",
    "            curr=curr.next\n",
    "        print()\n",
    "\n",
    "    def getMiddle(self):\n",
    "        if self.head is None:\n",
    "            return \"Stack is empty\"\n",
    "\n",
    "        return self.middle.data\n",
    "\n",
    "    def deleteMiddle(self):\n",
    "        if self.head is None:\n",
    "            print(\"Stack is empty\")\n",
    "            return\n",
    "        middle=self.middle\n",
    "        self.count-=1\n",
    "        if self.count%2==0:\n",
    "            if self.middle.prev:\n",
    "                self.middle.prev.next=self.middle.next\n",
    "            if self.middle.next:\n",
    "                self.middle.next.prev=self.middle.prev\n",
    "            self.middle=self.middle.next\n",
    "            if self.count==0:\n",
    "                self.head =None\n",
    "        else:\n",
    "            self.middle.prev.next=self.middle.next\n",
    "            if self.middle.next:\n",
    "                self.middle.next.prev=self.middle.prev\n",
    "            self.middle=self.middle.prev\n",
    "        value=middle.data\n",
    "        middle=None\n",
    "        return value\n",
    "\n",
    "if __name__ == '__main__':\n",
    "    stack=LinkedList()\n",
    "    stack.push(1)\n",
    "    stack.push(2)\n",
    "    stack.push(3)\n",
    "    stack.push(4)\n",
    "    stack.traverse()\n",
    "    print(stack.getMiddle())\n",
    "    stack.push(5)\n",
    "    stack.traverse()\n",
    "    print(stack.getMiddle())\n",
    "    stack.pop()\n",
    "    stack.traverse()\n",
    "    print(stack.getMiddle())\n",
    "    stack.push(5)\n",
    "    stack.push(6)\n",
    "    stack.traverse()\n",
    "    print(stack.getMiddle())\n",
    "    stack.deleteMiddle()\n",
    "    stack.traverse()\n",
    "    print(stack.getMiddle())\n",
    "    stack.deleteMiddle()\n",
    "    stack.traverse()\n",
    "    print(stack.getMiddle())\n",
    "    stack.deleteMiddle()\n",
    "    stack.traverse()\n",
    "    print(stack.getMiddle())\n",
    "    stack.deleteMiddle()\n",
    "    stack.traverse()\n",
    "    print(stack.getMiddle())\n",
    "    stack.deleteMiddle()\n",
    "    stack.traverse()\n",
    "    print(stack.getMiddle())\n",
    "    print(\"-------------------\")\n",
    "    stack.traverse()\n",
    "    stack.deleteMiddle()\n",
    "    stack.traverse()\n",
    "    print(stack.getMiddle())\n",
    "    print(\"--------------------\")\n",
    "    stack.push(1)\n",
    "    stack.traverse()\n",
    "    print(stack.getMiddle())\n",
    "    stack.push(2)\n",
    "    stack.traverse()\n",
    "    print(stack.getMiddle())\n",
    "    stack.push(3)\n",
    "    stack.traverse()\n",
    "    print(stack.getMiddle())\n"
   ]
  },
  {
   "cell_type": "markdown",
   "metadata": {},
   "source": [
    "# How to efficiently implement k stacks in a single array?"
   ]
  },
  {
   "cell_type": "markdown",
   "metadata": {},
   "source": [
    "Create a data structure kStacks that represents k stacks. Implementation of kStacks should use only one array, i.e., k stacks should use the same array for storing elements. Following functions must be supported by kStacks.\n",
    "\n",
    "push(int x, int sn) –> pushes x to stack number ‘sn’ where sn is from 0 to k-1\n",
    "\n",
    "pop(int sn) –> pops an element from stack number ‘sn’ where sn is from 0 to k-1"
   ]
  },
  {
   "cell_type": "markdown",
   "metadata": {},
   "source": [
    "<pre>\n",
    "The idea is to use two extra arrays for efficient implementation of k stacks in an array. This may not make much sense for integer stacks, but stack items can be large for example stacks of employees, students, etc where every item is of hundreds of bytes. For such large stacks, the extra space used is comparatively very less as we use two integer arrays as extra space.\n",
    "\n",
    "Following are the two extra arrays are used:\n",
    "1) top[]: This is of size k and stores indexes of top elements in all stacks.\n",
    "2) next[]: This is of size n and stores indexes of next item for the items in array arr[]. Here arr[] is actual array that stores k stacks.\n",
    "\n",
    "Together with k stacks, a stack of free slots in arr[] is also maintained. The top of this stack is stored in a variable ‘free’.\n",
    "\n",
    "All entries in top[] are initialized as -1 to indicate that all stacks are empty. All entries next[i] are initialized as i+1 because all slots are free initially and pointing to next slot. Top of free stack, ‘free’ is initialized as 0.\n",
    "</pre>"
   ]
  },
  {
   "cell_type": "code",
   "execution_count": null,
   "metadata": {},
   "outputs": [],
   "source": [
    "class KStacks:\n",
    "    def __init__(self,k,n):\n",
    "        self.k=k\n",
    "        self.n=n\n",
    "\n",
    "        self.arr=[-1]*self.n\n",
    "\n",
    "        self.top=[-1]*self.k\n",
    "\n",
    "        self.next=[i+1 for i in range(self.n)]\n",
    "\n",
    "        self.next[self.n-1]=-1\n",
    "\n",
    "        self.free=0\n",
    "\n",
    "    def isFull(self):\n",
    "        return self.free==-1\n",
    "\n",
    "    def isEmpty(self,k):\n",
    "        if self.top[k]==-1:\n",
    "            return True\n",
    "        return False\n",
    "\n",
    "    def push(self,data,k):\n",
    "        if self.isFull():\n",
    "            print(\"Stack Full\")\n",
    "            return\n",
    "\n",
    "        insertAt=self.free\n",
    "\n",
    "        self.free=self.next[self.free]\n",
    "\n",
    "        self.arr[insertAt]=data\n",
    "\n",
    "        self.next[insertAt]=self.top[k]\n",
    "\n",
    "        self.top[k]=insertAt\n",
    "\n",
    "    def pop(self,k):\n",
    "        if self.isFull():\n",
    "            print(\"Stack isEmpty\")\n",
    "            return\n",
    "        top_of_stack=self.top[k]\n",
    "\n",
    "        self.top[k]=self.next[top_of_stack]\n",
    "\n",
    "        self.next[top_of_stack]=self.free\n",
    "\n",
    "        self.free=top_of_stack\n",
    "\n",
    "        return self.arr[top_of_stack]\n",
    "\n",
    "    def printStack(self,k):\n",
    "        if self.isEmpty(k):\n",
    "            print(\"Stack empty\")\n",
    "            return\n",
    "        top_of_stack=self.top[k]\n",
    "        while top_of_stack!=-1:\n",
    "            print(self.arr[top_of_stack],end=\" \")\n",
    "            top_of_stack=self.next[top_of_stack]\n",
    "        print()\n",
    "\n",
    "if __name__ == '__main__':\n",
    "    kstack=KStacks(3,10)\n",
    "    kstack.push(15,2)\n",
    "    kstack.push(45,2)\n",
    "    kstack.push(17,1)\n",
    "    kstack.push(49,1)\n",
    "    kstack.push(39,1)\n",
    "    kstack.push(11,0)\n",
    "    kstack.push(9,0)\n",
    "    kstack.push(7,0)\n",
    "\n",
    "    # kstack.printStack(2)\n",
    "    kstack.pop(2)\n",
    "    kstack.pop(1)\n",
    "    kstack.pop(0)\n",
    "\n",
    "    kstack.printStack(2)\n",
    "    kstack.printStack(1)\n",
    "    kstack.printStack(0)\n"
   ]
  },
  {
   "cell_type": "markdown",
   "metadata": {},
   "source": [
    "# How to create mergable stack?"
   ]
  },
  {
   "cell_type": "markdown",
   "metadata": {},
   "source": [
    "<pre>\n",
    "Design a stack with the following operations.\n",
    "\n",
    "a) push(Stack s, x): Adds an item x to stack s \n",
    "b) pop(Stack s): Removes the top item from stack s \n",
    "c) merge(Stack s1, Stack s2): Merge contents of s2 into s1.\n",
    "\n",
    "Time Complexity of all above operations should be O(1). \n",
    "If we use array implementation of the stack, then merge is not possible to do in O(1) time as we have to do the following steps. \n",
    "a) Delete old arrays. \n",
    "b) Create a new array for s1 with a size equal to the size of the old array for s1 plus size of s2. \n",
    "c) Copy old contents of s1 and s2 to new array for s1 \n",
    "The above operations take O(n) time.\n",
    "\n",
    "We can use a linked list with two pointers, one pointer to the first node (also used as a top when elements are added and removed from the beginning). The other pointer is needed for the last node so that we can quickly link the linked list of s2 at the end of s1. Following are all operations. \n",
    "a) push(): Adds the new item at the beginning of linked list using the first pointer. \n",
    "b) pop(): Removes an item from the beginning using the first pointer. \n",
    "c) merge(): Links the first pointer second stack as next of the last pointer of the first list.\n",
    "Can we do it if we are not allowed to use an extra pointer? \n",
    "We can do it with a circular linked list. The idea is to keep track of the last node in the linked list. The next of the last node indicates the top of the stack. \n",
    "a) push(): Adds the new item as next of the last node. \n",
    "\n",
    " \n",
    "b) pop(): Removes next of last node. \n",
    "c) merge(): Links the top (next of last) of the second list to the top (next of last) of the first list. And makes last of the second list as last of the whole list.\n",
    "</pre>"
   ]
  },
  {
   "cell_type": "code",
   "execution_count": 1,
   "metadata": {},
   "outputs": [
    {
     "name": "stdout",
     "output_type": "stream",
     "text": [
      "4 5 6 \n",
      "7 8 9 \n",
      "4 5 6 7 8 9 \n"
     ]
    }
   ],
   "source": [
    "class Node:\n",
    "    def __init__(self,data):\n",
    "        self.data=data\n",
    "        self.next=None\n",
    "\n",
    "class Stack:\n",
    "    def __init__(self):\n",
    "        self.head=None\n",
    "        self.tail=None\n",
    "\n",
    "    def push(self,data):\n",
    "        curr=Node(data)\n",
    "        if self.head is None:\n",
    "            self.head=curr\n",
    "            self.tail=curr\n",
    "            return\n",
    "        curr.next=self.head\n",
    "        self.head=curr\n",
    "\n",
    "    def pop(self):\n",
    "        if self.head is None:\n",
    "            print(\"Stack is empty\")\n",
    "            return\n",
    "        value=self.head\n",
    "        self.head=self.head.next\n",
    "        if self.head is None:\n",
    "            self.tail=None\n",
    "        return value.data\n",
    "\n",
    "    def traverse(self):\n",
    "        if self.head is None:\n",
    "            print(\"Stack is empty\")\n",
    "            return\n",
    "        curr=self.head\n",
    "        while curr:\n",
    "            print(curr.data,end=\" \")\n",
    "            curr=curr.next\n",
    "        print()\n",
    "\n",
    "    def merge(self,s1,s2):\n",
    "        if s1 is None:\n",
    "            return\n",
    "        if s2 is None:\n",
    "            return\n",
    "        s1.tail.next=s2.head\n",
    "        s1.tail=s2.tail\n",
    "        # return s1.head\n",
    "\n",
    "\n",
    "\n",
    "if __name__ == '__main__':\n",
    "    s1=Stack()\n",
    "    s1.push(6)\n",
    "    s1.push(5)\n",
    "    s1.push(4)\n",
    "    s2=Stack()\n",
    "    s2.push(9)\n",
    "    s2.push(8)\n",
    "    s2.push(7)\n",
    "    s1.traverse()\n",
    "    s2.traverse()\n",
    "    s1.merge(s1,s2)\n",
    "    s1.traverse()\n"
   ]
  },
  {
   "cell_type": "markdown",
   "metadata": {},
   "source": [
    "# Design a stack that supports getMin() in O(1) time and O(1) extra space"
   ]
  },
  {
   "cell_type": "markdown",
   "metadata": {},
   "source": [
    "<pre>\n",
    "We define a variable minEle that stores the current minimum element in the stack. Now the interesting part is, how to handle the case when minimum element is removed. To handle this, we push “2x – minEle” into the stack instead of x so that previous minimum element can be retrieved using current minEle and its value stored in stack. Below are detailed steps and explanation of working.\n",
    "\n",
    "Push(x) : Inserts x at the top of stack.\n",
    "\n",
    "\n",
    "If stack is empty, insert x into the stack and make minEle equal to x.\n",
    "If stack is not empty, compare x with minEle. Two cases arise:\n",
    "If x is greater than or equal to minEle, simply insert x.\n",
    "If x is less than minEle, insert (2*x – minEle) into the stack and make minEle equal to x. For example, let previous minEle was 3. Now we want to insert 2. We update minEle as 2 and insert 2*2 – 3 = 1 into the stack.\n",
    "Pop() : Removes an element from top of stack.\n",
    "\n",
    "Remove element from top. Let the removed element be y. Two cases arise:\n",
    "If y is greater than or equal to minEle, the minimum element in the stack is still minEle.\n",
    "If y is less than minEle, the minimum element now becomes (2*minEle – y), so update (minEle = 2*minEle – y). This is where we retrieve previous minimum from current minimum and its value in stack. For example, let the element to be removed be 1 and minEle be 2. We remove 1 and update minEle as 2*2 – 1 = 3.\n",
    "Important Points:\n",
    "\n",
    "Stack doesn’t hold actual value of an element if it is minimum so far.\n",
    "Actual minimum element is always stored in minEle\n",
    "</pre>"
   ]
  },
  {
   "cell_type": "code",
   "execution_count": 2,
   "metadata": {},
   "outputs": [
    {
     "name": "stdout",
     "output_type": "stream",
     "text": [
      "3 \n",
      "Min Element is 3\n",
      "3 5 \n",
      "Min Element is 3\n",
      "3 5 1 \n",
      "Min Element is 2\n",
      "3 5 1 0 \n",
      "Min Element is 1\n",
      "3 5 1 0 1 \n",
      "Min Element is 1\n",
      "3 5 1 0 1 -3 \n",
      "Min Element is -1\n",
      "--------------\n",
      "3 5 1 0 1 \n",
      "Min Element is 1\n",
      "3 5 1 0 \n",
      "Min Element is 1\n",
      "3 5 1 \n",
      "Min Element is 2\n",
      "3 5 \n",
      "Min Element is 3\n",
      "3 \n",
      "Min Element is 3\n",
      "Stack is Empty\n",
      "\n",
      "Stack is empty\n",
      "Min Element is None\n"
     ]
    }
   ],
   "source": [
    "class Stack:\n",
    "    def __init__(self):\n",
    "        self.stack=[]\n",
    "        self.min=None\n",
    "\n",
    "    def push(self,data):\n",
    "        if len(self.stack)==0:\n",
    "            self.min=data\n",
    "            self.stack.append(data)\n",
    "            return\n",
    "        if data<self.min:\n",
    "            self.stack.append(2*data-self.min)\n",
    "            self.min=data\n",
    "        else:\n",
    "            self.stack.append(data)\n",
    "\n",
    "    def pop(self):\n",
    "        if len(self.stack)==0:\n",
    "            print('Stack is empty')\n",
    "            return\n",
    "        value=self.stack.pop()\n",
    "        if value<self.min:\n",
    "            self.min=2*self.min-value\n",
    "        return value\n",
    "\n",
    "    def traverse(self):\n",
    "        if len(self.stack)==0:\n",
    "            print(\"Stack is Empty\")\n",
    "        for i in self.stack:\n",
    "            print(i,end=\" \")\n",
    "        print()\n",
    "\n",
    "    def getMin(self):\n",
    "        if len(self.stack)==0:\n",
    "            print(\"Stack is empty\")\n",
    "            return None\n",
    "        return self.min\n",
    "\n",
    "\n",
    "if __name__ == '__main__':\n",
    "    stack=Stack()\n",
    "    stack.push(3)\n",
    "    stack.traverse()\n",
    "    print(f\"Min Element is {stack.getMin()}\")\n",
    "    stack.push(5)\n",
    "    stack.traverse()\n",
    "    print(f\"Min Element is {stack.getMin()}\")\n",
    "    stack.push(2)\n",
    "    stack.traverse()\n",
    "    print(f\"Min Element is {stack.getMin()}\")\n",
    "    stack.push(1)\n",
    "    stack.traverse()\n",
    "    print(f\"Min Element is {stack.getMin()}\")\n",
    "    stack.push(1)\n",
    "    stack.traverse()\n",
    "    print(f\"Min Element is {stack.getMin()}\")\n",
    "    stack.push(-1)\n",
    "    stack.traverse()\n",
    "    print(f\"Min Element is {stack.getMin()}\")\n",
    "    print('--------------')\n",
    "    stack.pop()\n",
    "    stack.traverse()\n",
    "    print(f\"Min Element is {stack.getMin()}\")\n",
    "    stack.pop()\n",
    "    stack.traverse()\n",
    "    print(f\"Min Element is {stack.getMin()}\")\n",
    "    stack.pop()\n",
    "    stack.traverse()\n",
    "    print(f\"Min Element is {stack.getMin()}\")\n",
    "    stack.pop()\n",
    "    stack.traverse()\n",
    "    print(f\"Min Element is {stack.getMin()}\")\n",
    "    stack.pop()\n",
    "    stack.traverse()\n",
    "    print(f\"Min Element is {stack.getMin()}\")\n",
    "    stack.pop()\n",
    "    stack.traverse()\n",
    "    print(f\"Min Element is {stack.getMin()}\")\n"
   ]
  },
  {
   "cell_type": "code",
   "execution_count": null,
   "metadata": {},
   "outputs": [],
   "source": []
  }
 ],
 "metadata": {
  "kernelspec": {
   "display_name": "Python 3",
   "language": "python",
   "name": "python3"
  },
  "language_info": {
   "codemirror_mode": {
    "name": "ipython",
    "version": 3
   },
   "file_extension": ".py",
   "mimetype": "text/x-python",
   "name": "python",
   "nbconvert_exporter": "python",
   "pygments_lexer": "ipython3",
   "version": "3.7.6"
  }
 },
 "nbformat": 4,
 "nbformat_minor": 4
}
