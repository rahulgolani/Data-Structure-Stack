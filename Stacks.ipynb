{
 "cells": [
  {
   "cell_type": "markdown",
   "metadata": {},
   "source": [
    "Stack is a linear data structure which follows a particular order in which the operations are performed. The order is LIFO."
   ]
  },
  {
   "cell_type": "markdown",
   "metadata": {},
   "source": [
    "Operations : push(), pop(), isEmpty() and peek()"
   ]
  },
  {
   "cell_type": "markdown",
   "metadata": {},
   "source": [
    "Applications\n",
    "\n",
    "Balancing of Symbols\n",
    "\n",
    "Infix to Postfix/Prefix\n",
    "\n",
    "Redo/Undo\n",
    "\n",
    "Forward/Backward\n",
    "\n",
    "Backtracking\n",
    "\n",
    "Graph Algo - Topological Sorting/ SCC\n",
    "\n",
    "String Reversals\n",
    "\n",
    "Memory Management\n"
   ]
  },
  {
   "cell_type": "markdown",
   "metadata": {},
   "source": [
    "# Implementation"
   ]
  },
  {
   "cell_type": "markdown",
   "metadata": {},
   "source": [
    "# Using Array"
   ]
  },
  {
   "cell_type": "code",
   "execution_count": 1,
   "metadata": {},
   "outputs": [
    {
     "name": "stdout",
     "output_type": "stream",
     "text": [
      "30\n",
      "20\n",
      "10\n",
      "\n",
      "20\n",
      "10\n",
      "\n"
     ]
    }
   ],
   "source": [
    "class Stack:\n",
    "\n",
    "    def __init__(self):\n",
    "        self.stack=[]\n",
    "\n",
    "    def isEmpty(self):\n",
    "        if len(self.stack)==0:\n",
    "            return True\n",
    "        else:\n",
    "            return False\n",
    "\n",
    "    def push(self,data):\n",
    "        self.stack.append(data)\n",
    "        #print(data,' pushed to stack')\n",
    "\n",
    "    def pop(self):\n",
    "        if len(self.stack)==0:\n",
    "            print('Stack empty! Cannot delete.')\n",
    "            return\n",
    "        return self.stack.pop()\n",
    "\n",
    "    def top(self):\n",
    "        if len(self.stack)==0:\n",
    "            print('Stack is empty')\n",
    "            return\n",
    "        return self.stack[-1]\n",
    "\n",
    "    def display(self):\n",
    "        if len(self.stack)==0:\n",
    "            print('Stack is empty!')\n",
    "            return\n",
    "        top=len(self.stack)-1\n",
    "        while top!=-1:\n",
    "            print(self.stack[top])\n",
    "            top-=1\n",
    "        print()\n",
    "\n",
    "if __name__ == '__main__':\n",
    "    stack=Stack()\n",
    "\n",
    "    stack.push(10)\n",
    "    stack.push(20)\n",
    "    stack.push(30)\n",
    "    stack.display()\n",
    "    stack.pop()\n",
    "    stack.display()\n"
   ]
  },
  {
   "cell_type": "markdown",
   "metadata": {},
   "source": [
    "Pros: Easy to implement. Memory is saved as pointers are not involved. \n",
    "\n",
    "Cons: It is not dynamic. It doesn’t grow and shrink depending on needs at runtime."
   ]
  },
  {
   "cell_type": "markdown",
   "metadata": {},
   "source": [
    "# Using Linked List"
   ]
  },
  {
   "cell_type": "markdown",
   "metadata": {},
   "source": [
    "Insert at start and delete from start"
   ]
  },
  {
   "cell_type": "code",
   "execution_count": 2,
   "metadata": {},
   "outputs": [
    {
     "name": "stdout",
     "output_type": "stream",
     "text": [
      "True\n",
      "Stack is empty!\n",
      "20\n",
      "20 10 \n",
      "10 \n",
      "10\n"
     ]
    }
   ],
   "source": [
    "import gc\n",
    "class Node:\n",
    "    def __init__(self,data):\n",
    "        self.data=data\n",
    "        self.next=None\n",
    "\n",
    "class Stack:\n",
    "    def __init__(self):\n",
    "        self.head=None\n",
    "\n",
    "    def isEmpty(self):\n",
    "        if self.head is None:\n",
    "            return True\n",
    "        return False\n",
    "\n",
    "    def push(self,data):\n",
    "        temp=Node(data)\n",
    "        if self.head is None:\n",
    "            self.head=temp\n",
    "            return\n",
    "        temp.next=self.head\n",
    "        self.head=temp\n",
    "\n",
    "    def pop(self):\n",
    "        if self.head is None:\n",
    "            print('Stack is empty!')\n",
    "            return\n",
    "        free=self.head\n",
    "        self.head=self.head.next\n",
    "        free=None\n",
    "        gc.collect()\n",
    "\n",
    "    def top(self):\n",
    "        if self.head is None:\n",
    "            print('Stack is empty')\n",
    "            return\n",
    "        print(self.head.data)\n",
    "\n",
    "    def traverse(self):\n",
    "        if self.head is None:\n",
    "            print('Stack is empty')\n",
    "            return\n",
    "        temp=self.head\n",
    "        while temp:\n",
    "            print(temp.data,end=\" \")\n",
    "            temp=temp.next\n",
    "        print()\n",
    "\n",
    "if __name__ == '__main__':\n",
    "    stack=Stack()\n",
    "    print(stack.isEmpty() )\n",
    "    stack.pop()\n",
    "    stack.push(10)\n",
    "    stack.push(20)\n",
    "    stack.top()\n",
    "    stack.traverse()\n",
    "    stack.pop()\n",
    "    stack.traverse()\n",
    "    stack.top()\n"
   ]
  },
  {
   "cell_type": "markdown",
   "metadata": {},
   "source": [
    "Pros: The linked list implementation of stack can grow and shrink according to the needs at runtime. \n",
    "\n",
    "Cons: Requires extra memory due to involvement of pointers."
   ]
  },
  {
   "cell_type": "code",
   "execution_count": null,
   "metadata": {},
   "outputs": [],
   "source": []
  },
  {
   "cell_type": "markdown",
   "metadata": {},
   "source": [
    "# Design and Implementation"
   ]
  },
  {
   "cell_type": "markdown",
   "metadata": {},
   "source": [
    "# Queue using Stacks"
   ]
  },
  {
   "cell_type": "markdown",
   "metadata": {},
   "source": [
    "A queue can be implemented using two stacks"
   ]
  },
  {
   "cell_type": "markdown",
   "metadata": {},
   "source": [
    "Method 1 (By making enQueue operation costly) This method makes sure that oldest entered element is always at the top of stack 1, so that deQueue operation just pops from stack1. To put the element at top of stack1, stack2 is used."
   ]
  },
  {
   "cell_type": "markdown",
   "metadata": {},
   "source": [
    "Enqueue-\n",
    "\n",
    "While stack1 is not empty, push everything from stack1 to stack2.\n",
    "\n",
    "Push x to stack1 (assuming size of stacks is unlimited).\n",
    "\n",
    "Push everything back to stack1."
   ]
  },
  {
   "cell_type": "markdown",
   "metadata": {},
   "source": [
    "deQueue-\n",
    "\n",
    "If stack1 is empty then error\n",
    "\n",
    "Pop an item from stack1 and return it"
   ]
  },
  {
   "cell_type": "code",
   "execution_count": 1,
   "metadata": {},
   "outputs": [
    {
     "name": "stdout",
     "output_type": "stream",
     "text": [
      "3 2 1 \n",
      "3 2 \n"
     ]
    }
   ],
   "source": [
    "class Queue:\n",
    "    def __init__(self):\n",
    "        self.stack1=[]\n",
    "        self.stack2=[]\n",
    "\n",
    "    def enqueue(self,data):\n",
    "        while len(self.stack1):\n",
    "            self.stack2.append(self.stack1.pop())\n",
    "\n",
    "        self.stack2.append(data)\n",
    "\n",
    "        while len(self.stack2):\n",
    "            self.stack1.append(self.stack2.pop())\n",
    "\n",
    "    def dequeue(self):\n",
    "        if len(self.stack1)==0:\n",
    "            print('Queue is empty')\n",
    "            return\n",
    "        return self.stack1.pop()\n",
    "\n",
    "    def traverse(self):\n",
    "        if len(self.stack1)==0:\n",
    "            print('Queue is empty!')\n",
    "            return\n",
    "        for i in self.stack1:\n",
    "            print(i,end=\" \")\n",
    "        print()\n",
    "\n",
    "if __name__ == '__main__':\n",
    "    q=Queue()\n",
    "    q.enqueue(1)\n",
    "    q.enqueue(2)\n",
    "    q.enqueue(3)\n",
    "    q.traverse()\n",
    "    q.dequeue()\n",
    "    q.traverse()"
   ]
  },
  {
   "cell_type": "markdown",
   "metadata": {},
   "source": [
    "Time Complexity:\n",
    "    \n",
    "Push operation: O(N).\n",
    "In the worst case we have empty whole of stack 1 into stack 2.\n",
    "\n",
    "Pop operation: O(1).\n",
    "Same as pop operation in stack.\n",
    "\n",
    "Auxiliary Space: O(N).\n",
    "Use of stack for storing values."
   ]
  },
  {
   "cell_type": "markdown",
   "metadata": {},
   "source": [
    "Method 2 (By making deQueue operation costly) - In this method, in en-queue operation, the new element is entered at the top of stack1. In de-queue operation, if stack2 is empty then all the elements are moved to stack2 and finally top of stack2 is returned"
   ]
  },
  {
   "cell_type": "code",
   "execution_count": 2,
   "metadata": {},
   "outputs": [
    {
     "name": "stdout",
     "output_type": "stream",
     "text": [
      "2 3 4 5 \n"
     ]
    }
   ],
   "source": [
    "class Queue:\n",
    "    def __init__(self):\n",
    "        self.stack1=[]\n",
    "        self.stack2=[]\n",
    "\n",
    "    def enqueue(self,data):\n",
    "        self.stack1.append(data)\n",
    "\n",
    "    def dequeue(self):\n",
    "        if len(self.stack1)==0 and len(self.stack2)==0:\n",
    "            print('Queue is empty')\n",
    "            return\n",
    "        if len(self.stack2)==0:\n",
    "            while len(self.stack1):\n",
    "                self.stack2.append(self.stack1.pop())\n",
    "            return self.stack2.pop()\n",
    "        return self.stack2.pop()\n",
    "\n",
    "    def isEmpty(self):\n",
    "        if len(self.stack1)==0 and len(self.stack2)==0:\n",
    "            return True\n",
    "        return False\n",
    "\n",
    "    def traverse(self):\n",
    "        if len(self.stack1)==0 and len(self.stack2)==0:\n",
    "            print('Queue is empty')\n",
    "            return\n",
    "        if len(self.stack2)!=0:\n",
    "            i=len(self.stack2)-1\n",
    "            while i>=0:\n",
    "                print(self.stack2[i],end=\" \")\n",
    "                i-=1\n",
    "        for i in self.stack1:\n",
    "            print(i,end=\" \")\n",
    "        print()\n",
    "\n",
    "\n",
    "if __name__ == '__main__':\n",
    "    q=Queue()\n",
    "    q.enqueue(1)\n",
    "    q.enqueue(2)\n",
    "    q.enqueue(3)\n",
    "    q.dequeue()\n",
    "    q.enqueue(4)\n",
    "    q.enqueue(5)\n",
    "    q.traverse()\n"
   ]
  },
  {
   "cell_type": "markdown",
   "metadata": {},
   "source": [
    "Method 2 is definitely better than method 1.\n",
    "\n",
    "Method 1 moves all the elements twice in enQueue operation, while method 2 (in deQueue operation) moves the elements once and moves elements only if stack2 empty. So, the amortized complexity of the dequeue operation becomes  \\Theta (1) .\n"
   ]
  },
  {
   "cell_type": "markdown",
   "metadata": {},
   "source": [
    "Time Complexity:\n",
    "\n",
    "Push operation: O(1).\n",
    "Same as pop operation in stack.\n",
    "\n",
    "Pop operation: O(N).\n",
    "In the worst case we have empty whole of stack 1 into stack 2\n",
    "\n",
    "Auxiliary Space: O(N).\n",
    "Use of stack for storing values."
   ]
  },
  {
   "cell_type": "markdown",
   "metadata": {},
   "source": [
    "# Queue can also be implemented using one user stack and one Function Call Stack"
   ]
  },
  {
   "cell_type": "markdown",
   "metadata": {},
   "source": [
    "enQueue(x)\n",
    "  1) Push x to stack1.\n",
    "\n",
    "deQueue:\n",
    "    \n",
    "  1) If stack1 is empty then error.\n",
    "  2) If stack1 has only one element then return it.\n",
    "  3) Recursively pop everything from the stack1, store the popped item \n",
    "    in a variable res,  push the res back to stack1 and return res"
   ]
  },
  {
   "cell_type": "code",
   "execution_count": 3,
   "metadata": {},
   "outputs": [
    {
     "name": "stdout",
     "output_type": "stream",
     "text": [
      "1 2 \n",
      "2 \n"
     ]
    }
   ],
   "source": [
    "#Implementing queue using a user stack and a function call stack\n",
    "class Queue:\n",
    "    def __init__(self):\n",
    "        self.stack=[]\n",
    "    def enqueue(self,data):\n",
    "        self.stack.append(data)\n",
    "\n",
    "    def dequeue(self):\n",
    "        if len(self.stack)==0:\n",
    "            print('Queue is empty')\n",
    "            return\n",
    "        if len(self.stack)==1:\n",
    "            return self.stack.pop()\n",
    "        x=self.stack.pop()\n",
    "        res=self.dequeue()\n",
    "        self.stack.append(x)\n",
    "        return res\n",
    "\n",
    "    def traverse(self):\n",
    "        if len(self.stack)==0:\n",
    "            print('Stack is empty')\n",
    "            return\n",
    "        for i in self.stack:\n",
    "            print(i,end=\" \")\n",
    "        print()\n",
    "\n",
    "if __name__ == '__main__':\n",
    "    q=Queue()\n",
    "    q.enqueue(1)\n",
    "    q.enqueue(2)\n",
    "    q.traverse()\n",
    "    q.dequeue()\n",
    "    q.traverse()\n"
   ]
  },
  {
   "cell_type": "markdown",
   "metadata": {},
   "source": [
    "# Design and Implement Special Stack Data Structure"
   ]
  },
  {
   "cell_type": "markdown",
   "metadata": {},
   "source": [
    "Design a Data Structure SpecialStack that supports all the stack operations like push(), pop(), isEmpty(), isFull() and an additional operation getMin() which should return minimum element from the SpecialStack. All these operations of SpecialStack must be O(1). "
   ]
  },
  {
   "cell_type": "markdown",
   "metadata": {},
   "source": [
    "<strong>Use two stacks</strong>: one to store actual stack elements and the other as an auxiliary stack to store minimum values. The idea is to do push() and pop() operations in such a way that the top of the auxiliary stack is always the minimum."
   ]
  },
  {
   "cell_type": "markdown",
   "metadata": {},
   "source": [
    "<pre>\n",
    "Push(x) // inserts an element x to Special Stack \n",
    "1) push x to the first stack (the stack with actual elements) \n",
    "2) compare x with the top element of the second stack (the auxiliary stack). Let the top element be y. \n",
    "…..a) If x is smaller than y then push x to the auxiliary stack. \n",
    "…..b) If x is greater than y then push y to the auxiliary stack.\n",
    "\n",
    "\n",
    "Pop() // removes an element from Special Stack and return the removed element \n",
    "1) pop the top element from the auxiliary stack. \n",
    "2) pop the top element from the actual stack and return it.\n",
    "The step 1 is necessary to make sure that the auxiliary stack is also updated for future operations.\n",
    "int getMin() // returns the minimum element from Special Stack \n",
    "1) Return the top element of the auxiliary stack.\n",
    "We can see that all the above operations are O(1). \n",
    "</pre>"
   ]
  },
  {
   "cell_type": "code",
   "execution_count": 5,
   "metadata": {},
   "outputs": [
    {
     "name": "stdout",
     "output_type": "stream",
     "text": [
      "True\n",
      "1\n"
     ]
    }
   ],
   "source": [
    "class Stack:\n",
    "\n",
    "    def __init__(self):\n",
    "        self.stack=[]\n",
    "        self.aux=[]\n",
    "\n",
    "    def isEmpty(self):\n",
    "        if len(self.stack)==0:\n",
    "            return True\n",
    "        return False\n",
    "\n",
    "    def push(self,data):\n",
    "        if self.isEmpty():\n",
    "            self.stack.append(data)\n",
    "            self.aux.append(data)\n",
    "            return\n",
    "        self.stack.append(data)\n",
    "        self.aux.append(min(self.stack[-1],self.aux[-1]))\n",
    "\n",
    "    def pop(self):\n",
    "        if len(self.stack)==0:\n",
    "            print('Stack is empty. Cannot delete!')\n",
    "            return\n",
    "        self.aux.pop()\n",
    "        return self.stack.pop()\n",
    "\n",
    "    def getMin(self):\n",
    "        if len(self.aux) ==0:\n",
    "            print('Stack is empty!')\n",
    "            return\n",
    "        print(self.aux[-1])\n",
    "\n",
    "if __name__ == '__main__':\n",
    "    stack=Stack()\n",
    "    print(stack.isEmpty())\n",
    "    stack.push(18)\n",
    "    stack.push(19)\n",
    "    stack.push(1)\n",
    "    stack.push(29)\n",
    "    stack.push(15)\n",
    "    stack.push(16)\n",
    "\n",
    "    stack.getMin()"
   ]
  },
  {
   "cell_type": "markdown",
   "metadata": {},
   "source": [
    "Space Optimized Approach-> Push element in auxiliary stack only if the incoming data is less than the top of aux stack and pop the element from auxiliary stack only if the top of aux stack is equal to the data getting popped from the original stack"
   ]
  },
  {
   "cell_type": "code",
   "execution_count": 6,
   "metadata": {},
   "outputs": [
    {
     "name": "stdout",
     "output_type": "stream",
     "text": [
      "True\n",
      "1\n"
     ]
    }
   ],
   "source": [
    "class Stack:\n",
    "\n",
    "    def __init__(self):\n",
    "        self.stack=[]\n",
    "        self.aux=[]\n",
    "\n",
    "    def isEmpty(self):\n",
    "        if len(self.stack)==0:\n",
    "            return True\n",
    "        return False\n",
    "\n",
    "    def push(self,data):\n",
    "        if self.isEmpty():\n",
    "            self.stack.append(data)\n",
    "            self.aux.append(data)\n",
    "            return\n",
    "        self.stack.append(data)\n",
    "        if data<self.aux[-1]:\n",
    "            self.aux.append(data)\n",
    "\n",
    "    def pop(self):\n",
    "        if len(self.stack)==0:\n",
    "            print('Stack is empty. Cannot delete!')\n",
    "            return\n",
    "        x=self.stack.pop()\n",
    "        if x==self.aux[-1]:\n",
    "            self.aux.pop()\n",
    "        return x\n",
    "\n",
    "    def getMin(self):\n",
    "        if len(self.aux) ==0:\n",
    "            print('Stack is empty!')\n",
    "            return\n",
    "        print(self.aux[-1])\n",
    "\n",
    "if __name__ == '__main__':\n",
    "    stack=Stack()\n",
    "    print(stack.isEmpty())\n",
    "    stack.push(18)\n",
    "    stack.push(19)\n",
    "    stack.push(1)\n",
    "    stack.push(29)\n",
    "    stack.push(15)\n",
    "    stack.push(16)\n",
    "    stack.getMin()\n"
   ]
  },
  {
   "cell_type": "markdown",
   "metadata": {},
   "source": [
    "# Implement two stacks in an array"
   ]
  },
  {
   "cell_type": "markdown",
   "metadata": {},
   "source": [
    "One approach could be to allocate 2 halves to the arrays, but this could result in overflow even if we have space to accomodate elements"
   ]
  },
  {
   "cell_type": "markdown",
   "metadata": {},
   "source": [
    "The problem with this method is inefficient use of array space. A stack push operation may result in stack overflow even if there is space available in arr[]. For example, say the array size is 6 and we push 3 elements to stack1 and do not push anything to second stack2. When we push 4th element to stack1, there will be overflow even if we have space for 3 more elements in array."
   ]
  },
  {
   "cell_type": "markdown",
   "metadata": {},
   "source": [
    "Approach 2-> This method efficiently utilizes the available space. It doesn’t cause an overflow if there is space available in arr[]. The idea is to start two stacks from two extreme corners of arr[]. stack1 starts from the leftmost element, the first element in stack1 is pushed at index 0. The stack2 starts from the rightmost corner, the first element in stack2 is pushed at index (n-1). Both stacks grow (or shrink) in opposite direction. To check for overflow, all we need to check is for space between top elements of both stacks"
   ]
  },
  {
   "cell_type": "code",
   "execution_count": 7,
   "metadata": {},
   "outputs": [
    {
     "name": "stdout",
     "output_type": "stream",
     "text": [
      "11\n",
      "40\n"
     ]
    }
   ],
   "source": [
    "class TwoStack:\n",
    "    def __init__(self,size):\n",
    "        self.stack=[None]*size\n",
    "        self.size=size\n",
    "        self.top1=-1\n",
    "        self.top2=self.size\n",
    "\n",
    "    def push1(self,data):\n",
    "        if self.top1<self.top2-1:\n",
    "            self.top1+=1\n",
    "            self.stack[self.top1]=data\n",
    "        else:\n",
    "            print('Stack Overflow')\n",
    "            return\n",
    "\n",
    "    def push2(self,data):\n",
    "        if self.top1<self.top2-1:\n",
    "            self.top2-=1\n",
    "            self.stack[self.top2]=data\n",
    "        else:\n",
    "            print('Stack Overflow')\n",
    "            return\n",
    "\n",
    "    def pop1(self):\n",
    "        if self.top1>=0:\n",
    "            x=self.stack[self.top1]\n",
    "            self.top1-=1\n",
    "            return x\n",
    "        else:\n",
    "            print('Stack Underflow')\n",
    "            return\n",
    "\n",
    "    def pop2(self):\n",
    "        if self.top2<self.size:\n",
    "            x=self.stack[self.top2]\n",
    "            self.top2+=1\n",
    "            return x\n",
    "        else:\n",
    "            print('Stack Underflow')\n",
    "            return\n",
    "\n",
    "if __name__ == '__main__':\n",
    "    ts=TwoStack(5)\n",
    "    ts.push1(5)\n",
    "    ts.push2(10)\n",
    "    ts.push2(15)\n",
    "    ts.push1(11)\n",
    "    ts.push2(7)\n",
    "    print(ts.pop1())\n",
    "    ts.push2(40)\n",
    "    print(ts.pop2())\n"
   ]
  },
  {
   "cell_type": "markdown",
   "metadata": {},
   "source": [
    "Time Complexity -> Push - O(1) Pop - (1) and Space Complexity O(n)"
   ]
  },
  {
   "cell_type": "markdown",
   "metadata": {},
   "source": [
    "# Implement Stack using Queues"
   ]
  },
  {
   "cell_type": "markdown",
   "metadata": {},
   "source": [
    "Making the Dequeue Operation Costly"
   ]
  },
  {
   "cell_type": "markdown",
   "metadata": {},
   "source": [
    "<pre>\n",
    "In push operation, the new element is always enqueued to q1. In pop() operation, if q2 is empty then all the elements except the last, are moved to q2. Finally the last element is dequeued from q1 and returned.\n",
    "\n",
    "push(s, x) operation:\n",
    "Enqueue x to q1 (assuming size of q1 is unlimited).\n",
    "\n",
    "pop(s) operation:\n",
    "One by one dequeue everything except the last element from q1 and enqueue to q2.\n",
    "Dequeue the last item of q1, the dequeued item is result, store it.\n",
    "Swap the names of q1 and q2\n",
    "Return the item stored in step 2.\n",
    "</pre>"
   ]
  },
  {
   "cell_type": "code",
   "execution_count": 3,
   "metadata": {},
   "outputs": [
    {
     "name": "stdout",
     "output_type": "stream",
     "text": [
      "1 2 3 4 5 \n",
      "1 2 3 4 \n",
      "1 2 3 \n",
      "1 2 \n",
      "1 \n",
      "Stack is empty\n",
      "Stack is empty\n",
      "Stack is empty\n"
     ]
    }
   ],
   "source": [
    "# Dequeue Operation Costly\n",
    "class Queue:\n",
    "    def __init__(self):\n",
    "        self.queue1=[]\n",
    "        self.queue2=[]\n",
    "\n",
    "    def dequeue(self):\n",
    "        if len(self.queue1)==0:\n",
    "            print(\"Stack is empty\")\n",
    "            return\n",
    "        while len(self.queue1)!=1:\n",
    "            self.queue2.append(self.queue1.pop(0))\n",
    "        value=self.queue1.pop(0)\n",
    "\n",
    "        temp=self.queue1\n",
    "        self.queue1=self.queue2\n",
    "        self.queue2=temp\n",
    "        return value\n",
    "\n",
    "    def enqueue(self,data):\n",
    "        self.queue1.append(data)\n",
    "\n",
    "    def traverse(self):\n",
    "        if len(self.queue1)==0:\n",
    "            print(\"Stack is empty\")\n",
    "            return\n",
    "        for i in range(len(self.queue1)):\n",
    "            print(self.queue1[i],end=\" \")\n",
    "        print()\n",
    "\n",
    "\n",
    "if __name__ == '__main__':\n",
    "    stack=Queue()\n",
    "    stack.enqueue(1)\n",
    "    stack.enqueue(2)\n",
    "    stack.enqueue(3)\n",
    "    stack.enqueue(4)\n",
    "    stack.enqueue(5)\n",
    "    stack.traverse()\n",
    "    stack.dequeue()\n",
    "    stack.traverse()\n",
    "    stack.dequeue()\n",
    "    stack.traverse()\n",
    "    stack.dequeue()\n",
    "    stack.traverse()\n",
    "    stack.dequeue()\n",
    "    stack.traverse()\n",
    "    stack.dequeue()\n",
    "    stack.traverse()\n",
    "    stack.dequeue()\n",
    "    stack.traverse()\n"
   ]
  },
  {
   "cell_type": "markdown",
   "metadata": {},
   "source": [
    "Making Enqueue Operation Costly"
   ]
  },
  {
   "cell_type": "markdown",
   "metadata": {},
   "source": [
    "<pre>\n",
    "push(s, x) operation’s step are described below:\n",
    "Enqueue x to q2\n",
    "One by one dequeue everything from q1 and enqueue to q2.\n",
    "Swap the names of q1 and q2\n",
    "\n",
    "pop(s) operation’s function are described below:\n",
    "Dequeue an item from q1 and return it.\n",
    "</pre>"
   ]
  },
  {
   "cell_type": "code",
   "execution_count": 4,
   "metadata": {},
   "outputs": [
    {
     "name": "stdout",
     "output_type": "stream",
     "text": [
      "1 2 3 4 5 \n",
      "1 2 3 4 \n",
      "1 2 3 \n",
      "1 2 \n",
      "1 \n",
      "Stack is empty\n",
      "Stack is empty\n",
      "Stack is empty\n"
     ]
    }
   ],
   "source": [
    "# Enqueue Operation Costly\n",
    "class Queue:\n",
    "    def __init__(self):\n",
    "        self.queue1=[]\n",
    "        self.queue2=[]\n",
    "\n",
    "    def dequeue(self):\n",
    "        if len(self.queue1)==0:\n",
    "            print(\"Stack is empty\")\n",
    "            return\n",
    "        return self.queue1.pop(0)\n",
    "\n",
    "\n",
    "    def enqueue(self,data):\n",
    "        if len(self.queue1)==0:\n",
    "            self.queue1.append(data)\n",
    "            return\n",
    "        self.queue2.append(data)\n",
    "        while self.queue1:\n",
    "            self.queue2.append(self.queue1.pop(0))\n",
    "        temp=self.queue1\n",
    "        self.queue1=self.queue2\n",
    "        self.queue2=temp\n",
    "\n",
    "    def traverse(self):\n",
    "        if len(self.queue1)==0:\n",
    "            print(\"Stack is empty\")\n",
    "            return\n",
    "        for i in range(len(self.queue1)-1,-1,-1):\n",
    "            print(self.queue1[i],end=\" \")\n",
    "        print()\n",
    "\n",
    "\n",
    "if __name__ == '__main__':\n",
    "    stack=Queue()\n",
    "    stack.enqueue(1)\n",
    "    stack.enqueue(2)\n",
    "    stack.enqueue(3)\n",
    "    stack.enqueue(4)\n",
    "    stack.enqueue(5)\n",
    "    stack.traverse()\n",
    "    stack.dequeue()\n",
    "    stack.traverse()\n",
    "    stack.dequeue()\n",
    "    stack.traverse()\n",
    "    stack.dequeue()\n",
    "    stack.traverse()\n",
    "    stack.dequeue()\n",
    "    stack.traverse()\n",
    "    stack.dequeue()\n",
    "    stack.traverse()\n",
    "    stack.dequeue()\n",
    "    stack.traverse()\n"
   ]
  },
  {
   "cell_type": "markdown",
   "metadata": {},
   "source": [
    "# Design a stack with operations on middle element"
   ]
  },
  {
   "cell_type": "markdown",
   "metadata": {},
   "source": [
    "How to implement a stack which will support following operations in O(1) time complexity?\n",
    "\n",
    "1) push() which adds an element to the top of stack.\n",
    "\n",
    "2) pop() which removes an element from top of stack.\n",
    "\n",
    "3) findMiddle() which will return middle element of the stack.\n",
    "\n",
    "4) deleteMiddle() which will delete the middle element.\n"
   ]
  },
  {
   "cell_type": "markdown",
   "metadata": {},
   "source": [
    "The important question is, whether to use a linked list or array for implementation of stack?\n",
    "\n",
    "We need to find and delete middle element. \n",
    "\n",
    "Deleting an element from middle is not O(1) for array. Also, we may need to move the middle pointer up when we push an element and move down when we pop(). In singly linked list, moving middle pointer in both directions is not possible.\n",
    "\n",
    "The idea is to use Doubly Linked List (DLL). We can delete middle element in O(1) time by maintaining mid pointer. We can move mid pointer in both directions using previous and next pointers.m"
   ]
  },
  {
   "cell_type": "code",
   "execution_count": 5,
   "metadata": {},
   "outputs": [
    {
     "name": "stdout",
     "output_type": "stream",
     "text": [
      "4 3 2 1 \n",
      "2\n",
      "5 4 3 2 1 \n",
      "3\n",
      "4 3 2 1 \n",
      "2\n",
      "6 5 4 3 2 1 \n",
      "3\n",
      "6 5 4 2 1 \n",
      "4\n",
      "6 5 2 1 \n",
      "2\n",
      "6 5 1 \n",
      "5\n",
      "6 1 \n",
      "1\n",
      "6 \n",
      "6\n",
      "-------------------\n",
      "6 \n",
      "Stack is empty\n",
      "Stack is empty\n",
      "--------------------\n",
      "1 \n",
      "1\n",
      "2 1 \n",
      "1\n",
      "3 2 1 \n",
      "2\n"
     ]
    }
   ],
   "source": [
    "class Node:\n",
    "    def __init__(self,data):\n",
    "        self.data=data\n",
    "        self.next=None\n",
    "        self.prev=None\n",
    "\n",
    "class LinkedList:\n",
    "    def __init__(self):\n",
    "        self.head=None\n",
    "        self.middle=None\n",
    "        self.count=0\n",
    "\n",
    "    def push(self,data):\n",
    "        curr=Node(data)\n",
    "        if self.head is None:\n",
    "            self.head=curr\n",
    "            self.count+=1\n",
    "            self.middle=curr\n",
    "            return\n",
    "        curr.next=self.head\n",
    "        self.head.prev=curr\n",
    "        self.head=curr\n",
    "        self.count+=1\n",
    "        if self.count%2==1:\n",
    "            self.middle=self.middle.prev\n",
    "\n",
    "    def pop(self):\n",
    "        if self.head is None:\n",
    "            print(\"Stack is empty\")\n",
    "            return\n",
    "        self.count-=1\n",
    "        value=self.head\n",
    "        self.head=self.head.next\n",
    "        if self.head:\n",
    "            self.head.prev=None\n",
    "        if self.count%2==0:\n",
    "            self.middle=self.middle.next\n",
    "        return value.data\n",
    "\n",
    "    def traverse(self):\n",
    "        if self.head is None:\n",
    "            print(\"Stack is empty\")\n",
    "            return\n",
    "        curr=self.head\n",
    "        while curr:\n",
    "            print(curr.data,end=\" \")\n",
    "            curr=curr.next\n",
    "        print()\n",
    "\n",
    "    def getMiddle(self):\n",
    "        if self.head is None:\n",
    "            return \"Stack is empty\"\n",
    "\n",
    "        return self.middle.data\n",
    "\n",
    "    def deleteMiddle(self):\n",
    "        if self.head is None:\n",
    "            print(\"Stack is empty\")\n",
    "            return\n",
    "        middle=self.middle\n",
    "        self.count-=1\n",
    "        if self.count%2==0:\n",
    "            if self.middle.prev:\n",
    "                self.middle.prev.next=self.middle.next\n",
    "            if self.middle.next:\n",
    "                self.middle.next.prev=self.middle.prev\n",
    "            self.middle=self.middle.next\n",
    "            if self.count==0:\n",
    "                self.head =None\n",
    "        else:\n",
    "            self.middle.prev.next=self.middle.next\n",
    "            if self.middle.next:\n",
    "                self.middle.next.prev=self.middle.prev\n",
    "            self.middle=self.middle.prev\n",
    "        value=middle.data\n",
    "        middle=None\n",
    "        return value\n",
    "\n",
    "if __name__ == '__main__':\n",
    "    stack=LinkedList()\n",
    "    stack.push(1)\n",
    "    stack.push(2)\n",
    "    stack.push(3)\n",
    "    stack.push(4)\n",
    "    stack.traverse()\n",
    "    print(stack.getMiddle())\n",
    "    stack.push(5)\n",
    "    stack.traverse()\n",
    "    print(stack.getMiddle())\n",
    "    stack.pop()\n",
    "    stack.traverse()\n",
    "    print(stack.getMiddle())\n",
    "    stack.push(5)\n",
    "    stack.push(6)\n",
    "    stack.traverse()\n",
    "    print(stack.getMiddle())\n",
    "    stack.deleteMiddle()\n",
    "    stack.traverse()\n",
    "    print(stack.getMiddle())\n",
    "    stack.deleteMiddle()\n",
    "    stack.traverse()\n",
    "    print(stack.getMiddle())\n",
    "    stack.deleteMiddle()\n",
    "    stack.traverse()\n",
    "    print(stack.getMiddle())\n",
    "    stack.deleteMiddle()\n",
    "    stack.traverse()\n",
    "    print(stack.getMiddle())\n",
    "    stack.deleteMiddle()\n",
    "    stack.traverse()\n",
    "    print(stack.getMiddle())\n",
    "    print(\"-------------------\")\n",
    "    stack.traverse()\n",
    "    stack.deleteMiddle()\n",
    "    stack.traverse()\n",
    "    print(stack.getMiddle())\n",
    "    print(\"--------------------\")\n",
    "    stack.push(1)\n",
    "    stack.traverse()\n",
    "    print(stack.getMiddle())\n",
    "    stack.push(2)\n",
    "    stack.traverse()\n",
    "    print(stack.getMiddle())\n",
    "    stack.push(3)\n",
    "    stack.traverse()\n",
    "    print(stack.getMiddle())\n"
   ]
  },
  {
   "cell_type": "markdown",
   "metadata": {},
   "source": [
    "# How to efficiently implement k stacks in a single array?"
   ]
  },
  {
   "cell_type": "markdown",
   "metadata": {},
   "source": [
    "Create a data structure kStacks that represents k stacks. Implementation of kStacks should use only one array, i.e., k stacks should use the same array for storing elements. Following functions must be supported by kStacks.\n",
    "\n",
    "push(int x, int sn) –> pushes x to stack number ‘sn’ where sn is from 0 to k-1\n",
    "\n",
    "pop(int sn) –> pops an element from stack number ‘sn’ where sn is from 0 to k-1"
   ]
  },
  {
   "cell_type": "markdown",
   "metadata": {},
   "source": [
    "<pre>\n",
    "The idea is to use two extra arrays for efficient implementation of k stacks in an array. This may not make much sense for integer stacks, but stack items can be large for example stacks of employees, students, etc where every item is of hundreds of bytes. For such large stacks, the extra space used is comparatively very less as we use two integer arrays as extra space.\n",
    "\n",
    "Following are the two extra arrays are used:\n",
    "1) top[]: This is of size k and stores indexes of top elements in all stacks.\n",
    "2) next[]: This is of size n and stores indexes of next item for the items in array arr[]. Here arr[] is actual array that stores k stacks.\n",
    "\n",
    "Together with k stacks, a stack of free slots in arr[] is also maintained. The top of this stack is stored in a variable ‘free’.\n",
    "\n",
    "All entries in top[] are initialized as -1 to indicate that all stacks are empty. All entries next[i] are initialized as i+1 because all slots are free initially and pointing to next slot. Top of free stack, ‘free’ is initialized as 0.\n",
    "</pre>"
   ]
  },
  {
   "cell_type": "code",
   "execution_count": null,
   "metadata": {},
   "outputs": [],
   "source": [
    "class KStacks:\n",
    "    def __init__(self,k,n):\n",
    "        self.k=k\n",
    "        self.n=n\n",
    "\n",
    "        self.arr=[-1]*self.n\n",
    "\n",
    "        self.top=[-1]*self.k\n",
    "\n",
    "        self.next=[i+1 for i in range(self.n)]\n",
    "\n",
    "        self.next[self.n-1]=-1\n",
    "\n",
    "        self.free=0\n",
    "\n",
    "    def isFull(self):\n",
    "        return self.free==-1\n",
    "\n",
    "    def isEmpty(self,k):\n",
    "        if self.top[k]==-1:\n",
    "            return True\n",
    "        return False\n",
    "\n",
    "    def push(self,data,k):\n",
    "        if self.isFull():\n",
    "            print(\"Stack Full\")\n",
    "            return\n",
    "\n",
    "        insertAt=self.free\n",
    "\n",
    "        self.free=self.next[self.free]\n",
    "\n",
    "        self.arr[insertAt]=data\n",
    "\n",
    "        self.next[insertAt]=self.top[k]\n",
    "\n",
    "        self.top[k]=insertAt\n",
    "\n",
    "    def pop(self,k):\n",
    "        if self.isFull():\n",
    "            print(\"Stack isEmpty\")\n",
    "            return\n",
    "        top_of_stack=self.top[k]\n",
    "\n",
    "        self.top[k]=self.next[top_of_stack]\n",
    "\n",
    "        self.next[top_of_stack]=self.free\n",
    "\n",
    "        self.free=top_of_stack\n",
    "\n",
    "        return self.arr[top_of_stack]\n",
    "\n",
    "    def printStack(self,k):\n",
    "        if self.isEmpty(k):\n",
    "            print(\"Stack empty\")\n",
    "            return\n",
    "        top_of_stack=self.top[k]\n",
    "        while top_of_stack!=-1:\n",
    "            print(self.arr[top_of_stack],end=\" \")\n",
    "            top_of_stack=self.next[top_of_stack]\n",
    "        print()\n",
    "\n",
    "if __name__ == '__main__':\n",
    "    kstack=KStacks(3,10)\n",
    "    kstack.push(15,2)\n",
    "    kstack.push(45,2)\n",
    "    kstack.push(17,1)\n",
    "    kstack.push(49,1)\n",
    "    kstack.push(39,1)\n",
    "    kstack.push(11,0)\n",
    "    kstack.push(9,0)\n",
    "    kstack.push(7,0)\n",
    "\n",
    "    # kstack.printStack(2)\n",
    "    kstack.pop(2)\n",
    "    kstack.pop(1)\n",
    "    kstack.pop(0)\n",
    "\n",
    "    kstack.printStack(2)\n",
    "    kstack.printStack(1)\n",
    "    kstack.printStack(0)\n"
   ]
  },
  {
   "cell_type": "markdown",
   "metadata": {},
   "source": [
    "# How to create mergable stack?"
   ]
  },
  {
   "cell_type": "markdown",
   "metadata": {},
   "source": [
    "<pre>\n",
    "Design a stack with the following operations.\n",
    "\n",
    "a) push(Stack s, x): Adds an item x to stack s \n",
    "b) pop(Stack s): Removes the top item from stack s \n",
    "c) merge(Stack s1, Stack s2): Merge contents of s2 into s1.\n",
    "\n",
    "Time Complexity of all above operations should be O(1). \n",
    "If we use array implementation of the stack, then merge is not possible to do in O(1) time as we have to do the following steps. \n",
    "a) Delete old arrays. \n",
    "b) Create a new array for s1 with a size equal to the size of the old array for s1 plus size of s2. \n",
    "c) Copy old contents of s1 and s2 to new array for s1 \n",
    "The above operations take O(n) time.\n",
    "\n",
    "We can use a linked list with two pointers, one pointer to the first node (also used as a top when elements are added and removed from the beginning). The other pointer is needed for the last node so that we can quickly link the linked list of s2 at the end of s1. Following are all operations. \n",
    "a) push(): Adds the new item at the beginning of linked list using the first pointer. \n",
    "b) pop(): Removes an item from the beginning using the first pointer. \n",
    "c) merge(): Links the first pointer second stack as next of the last pointer of the first list.\n",
    "Can we do it if we are not allowed to use an extra pointer? \n",
    "We can do it with a circular linked list. The idea is to keep track of the last node in the linked list. The next of the last node indicates the top of the stack. \n",
    "a) push(): Adds the new item as next of the last node. \n",
    "\n",
    " \n",
    "b) pop(): Removes next of last node. \n",
    "c) merge(): Links the top (next of last) of the second list to the top (next of last) of the first list. And makes last of the second list as last of the whole list.\n",
    "</pre>"
   ]
  },
  {
   "cell_type": "code",
   "execution_count": 1,
   "metadata": {},
   "outputs": [
    {
     "name": "stdout",
     "output_type": "stream",
     "text": [
      "4 5 6 \n",
      "7 8 9 \n",
      "4 5 6 7 8 9 \n"
     ]
    }
   ],
   "source": [
    "class Node:\n",
    "    def __init__(self,data):\n",
    "        self.data=data\n",
    "        self.next=None\n",
    "\n",
    "class Stack:\n",
    "    def __init__(self):\n",
    "        self.head=None\n",
    "        self.tail=None\n",
    "\n",
    "    def push(self,data):\n",
    "        curr=Node(data)\n",
    "        if self.head is None:\n",
    "            self.head=curr\n",
    "            self.tail=curr\n",
    "            return\n",
    "        curr.next=self.head\n",
    "        self.head=curr\n",
    "\n",
    "    def pop(self):\n",
    "        if self.head is None:\n",
    "            print(\"Stack is empty\")\n",
    "            return\n",
    "        value=self.head\n",
    "        self.head=self.head.next\n",
    "        if self.head is None:\n",
    "            self.tail=None\n",
    "        return value.data\n",
    "\n",
    "    def traverse(self):\n",
    "        if self.head is None:\n",
    "            print(\"Stack is empty\")\n",
    "            return\n",
    "        curr=self.head\n",
    "        while curr:\n",
    "            print(curr.data,end=\" \")\n",
    "            curr=curr.next\n",
    "        print()\n",
    "\n",
    "    def merge(self,s1,s2):\n",
    "        if s1 is None:\n",
    "            return\n",
    "        if s2 is None:\n",
    "            return\n",
    "        s1.tail.next=s2.head\n",
    "        s1.tail=s2.tail\n",
    "        # return s1.head\n",
    "\n",
    "\n",
    "\n",
    "if __name__ == '__main__':\n",
    "    s1=Stack()\n",
    "    s1.push(6)\n",
    "    s1.push(5)\n",
    "    s1.push(4)\n",
    "    s2=Stack()\n",
    "    s2.push(9)\n",
    "    s2.push(8)\n",
    "    s2.push(7)\n",
    "    s1.traverse()\n",
    "    s2.traverse()\n",
    "    s1.merge(s1,s2)\n",
    "    s1.traverse()\n"
   ]
  },
  {
   "cell_type": "markdown",
   "metadata": {},
   "source": [
    "# Design a stack that supports getMin() in O(1) time and O(1) extra space"
   ]
  },
  {
   "cell_type": "markdown",
   "metadata": {},
   "source": [
    "<pre>\n",
    "We define a variable minEle that stores the current minimum element in the stack. Now the interesting part is, how to handle the case when minimum element is removed. To handle this, we push “2x – minEle” into the stack instead of x so that previous minimum element can be retrieved using current minEle and its value stored in stack. Below are detailed steps and explanation of working.\n",
    "\n",
    "Push(x) : Inserts x at the top of stack.\n",
    "\n",
    "\n",
    "If stack is empty, insert x into the stack and make minEle equal to x.\n",
    "If stack is not empty, compare x with minEle. Two cases arise:\n",
    "If x is greater than or equal to minEle, simply insert x.\n",
    "If x is less than minEle, insert (2*x – minEle) into the stack and make minEle equal to x. For example, let previous minEle was 3. Now we want to insert 2. We update minEle as 2 and insert 2*2 – 3 = 1 into the stack.\n",
    "Pop() : Removes an element from top of stack.\n",
    "\n",
    "Remove element from top. Let the removed element be y. Two cases arise:\n",
    "If y is greater than or equal to minEle, the minimum element in the stack is still minEle.\n",
    "If y is less than minEle, the minimum element now becomes (2*minEle – y), so update (minEle = 2*minEle – y). This is where we retrieve previous minimum from current minimum and its value in stack. For example, let the element to be removed be 1 and minEle be 2. We remove 1 and update minEle as 2*2 – 1 = 3.\n",
    "Important Points:\n",
    "\n",
    "Stack doesn’t hold actual value of an element if it is minimum so far.\n",
    "Actual minimum element is always stored in minEle\n",
    "</pre>"
   ]
  },
  {
   "cell_type": "code",
   "execution_count": 2,
   "metadata": {},
   "outputs": [
    {
     "name": "stdout",
     "output_type": "stream",
     "text": [
      "3 \n",
      "Min Element is 3\n",
      "3 5 \n",
      "Min Element is 3\n",
      "3 5 1 \n",
      "Min Element is 2\n",
      "3 5 1 0 \n",
      "Min Element is 1\n",
      "3 5 1 0 1 \n",
      "Min Element is 1\n",
      "3 5 1 0 1 -3 \n",
      "Min Element is -1\n",
      "--------------\n",
      "3 5 1 0 1 \n",
      "Min Element is 1\n",
      "3 5 1 0 \n",
      "Min Element is 1\n",
      "3 5 1 \n",
      "Min Element is 2\n",
      "3 5 \n",
      "Min Element is 3\n",
      "3 \n",
      "Min Element is 3\n",
      "Stack is Empty\n",
      "\n",
      "Stack is empty\n",
      "Min Element is None\n"
     ]
    }
   ],
   "source": [
    "class Stack:\n",
    "    def __init__(self):\n",
    "        self.stack=[]\n",
    "        self.min=None\n",
    "\n",
    "    def push(self,data):\n",
    "        if len(self.stack)==0:\n",
    "            self.min=data\n",
    "            self.stack.append(data)\n",
    "            return\n",
    "        if data<self.min:\n",
    "            self.stack.append(2*data-self.min)\n",
    "            self.min=data\n",
    "        else:\n",
    "            self.stack.append(data)\n",
    "\n",
    "    def pop(self):\n",
    "        if len(self.stack)==0:\n",
    "            print('Stack is empty')\n",
    "            return\n",
    "        value=self.stack.pop()\n",
    "        if value<self.min:\n",
    "            self.min=2*self.min-value\n",
    "        return value\n",
    "\n",
    "    def traverse(self):\n",
    "        if len(self.stack)==0:\n",
    "            print(\"Stack is Empty\")\n",
    "        for i in self.stack:\n",
    "            print(i,end=\" \")\n",
    "        print()\n",
    "\n",
    "    def getMin(self):\n",
    "        if len(self.stack)==0:\n",
    "            print(\"Stack is empty\")\n",
    "            return None\n",
    "        return self.min\n",
    "\n",
    "\n",
    "if __name__ == '__main__':\n",
    "    stack=Stack()\n",
    "    stack.push(3)\n",
    "    stack.traverse()\n",
    "    print(f\"Min Element is {stack.getMin()}\")\n",
    "    stack.push(5)\n",
    "    stack.traverse()\n",
    "    print(f\"Min Element is {stack.getMin()}\")\n",
    "    stack.push(2)\n",
    "    stack.traverse()\n",
    "    print(f\"Min Element is {stack.getMin()}\")\n",
    "    stack.push(1)\n",
    "    stack.traverse()\n",
    "    print(f\"Min Element is {stack.getMin()}\")\n",
    "    stack.push(1)\n",
    "    stack.traverse()\n",
    "    print(f\"Min Element is {stack.getMin()}\")\n",
    "    stack.push(-1)\n",
    "    stack.traverse()\n",
    "    print(f\"Min Element is {stack.getMin()}\")\n",
    "    print('--------------')\n",
    "    stack.pop()\n",
    "    stack.traverse()\n",
    "    print(f\"Min Element is {stack.getMin()}\")\n",
    "    stack.pop()\n",
    "    stack.traverse()\n",
    "    print(f\"Min Element is {stack.getMin()}\")\n",
    "    stack.pop()\n",
    "    stack.traverse()\n",
    "    print(f\"Min Element is {stack.getMin()}\")\n",
    "    stack.pop()\n",
    "    stack.traverse()\n",
    "    print(f\"Min Element is {stack.getMin()}\")\n",
    "    stack.pop()\n",
    "    stack.traverse()\n",
    "    print(f\"Min Element is {stack.getMin()}\")\n",
    "    stack.pop()\n",
    "    stack.traverse()\n",
    "    print(f\"Min Element is {stack.getMin()}\")\n"
   ]
  },
  {
   "cell_type": "markdown",
   "metadata": {},
   "source": [
    "<pre>\n",
    "<strong>How does this approach work?</strong>\n",
    "When element to be inserted is less than minEle, we insert “2x – minEle”. The important thing to notes is, 2x – minEle will always be less than x (proved below), i.e., new minEle and while popping out this element we will see that something unusual has happened as the popped element is less than the minEle. So we will be updating minEle.\n",
    "\n",
    "How 2*x - minEle is less than x in push()? \n",
    "x < minEle which means x - minEle < 0\n",
    "\n",
    "// Adding x on both sides\n",
    "x - minEle + x < 0 + x \n",
    "\n",
    "2*x - minEle < x \n",
    "\n",
    "We can conclude 2*x - minEle < new minEle \n",
    "While popping out, if we find the element(y) less than the current minEle, we find the new minEle = 2*minEle – y.\n",
    "\n",
    "How previous minimum element, prevMinEle is, 2*minEle - y\n",
    "in pop() is y the popped element?\n",
    "\n",
    " // We pushed y as 2x - prevMinEle. Here \n",
    " // prevMinEle is minEle before y was inserted\n",
    " y = 2*x - prevMinEle  \n",
    "\n",
    " // Value of minEle was made equal to x\n",
    " minEle = x .\n",
    "    \n",
    " new minEle = 2 * minEle - y \n",
    "            = 2*x - (2*x - prevMinEle)\n",
    "            = prevMinEle // This is what we wanted\n",
    "        \n",
    "</mpre>"
   ]
  },
  {
   "cell_type": "markdown",
   "metadata": {},
   "source": [
    "# Implement a stack using single queue"
   ]
  },
  {
   "cell_type": "markdown",
   "metadata": {},
   "source": [
    "<pre>\n",
    "// x is the element to be pushed and s is stack\n",
    "push(s, x) \n",
    "  1) Let size of q be s. \n",
    "  1) Enqueue x to q\n",
    "  2) One by one Dequeue s items from queue and enqueue them.\n",
    "  \n",
    "// Removes an item from stack\n",
    "pop(s)\n",
    "  1) Dequeue an item from q\n",
    "</pre>"
   ]
  },
  {
   "cell_type": "markdown",
   "metadata": {},
   "source": [
    "# Implement stack using priority queue or heap (min-heap)"
   ]
  },
  {
   "cell_type": "markdown",
   "metadata": {},
   "source": [
    "Approach-> Along with the element give the priority value as well that will serve as the key for the heap"
   ]
  },
  {
   "cell_type": "markdown",
   "metadata": {},
   "source": [
    "Time Complexity O(logn)"
   ]
  },
  {
   "cell_type": "markdown",
   "metadata": {},
   "source": [
    "# Implement Stack and Queue using Deque"
   ]
  },
  {
   "cell_type": "markdown",
   "metadata": {},
   "source": [
    "![](https://media.geeksforgeeks.org/wp-content/uploads/stack-and-queue-using-deque.png)"
   ]
  },
  {
   "cell_type": "markdown",
   "metadata": {},
   "source": [
    "<center><h1>Standard Problems</h1></center>"
   ]
  },
  {
   "cell_type": "markdown",
   "metadata": {},
   "source": [
    "# Infix to Postfix"
   ]
  },
  {
   "cell_type": "markdown",
   "metadata": {},
   "source": [
    "Infix expression:The expression of the form a op b. When an operator is in-between every pair of operands.\n",
    "\n",
    "Postfix expression:The expression of the form a b op. When an operator is followed for every pair of operands."
   ]
  },
  {
   "cell_type": "markdown",
   "metadata": {},
   "source": [
    "Why postfix representation of the expression? \n",
    "\n",
    "The compiler scans the expression either from left to right or from right to left. \n",
    "Consider the below expression: a op1 b op2 c op3 d \n",
    "\n",
    "If op1 = +, op2 = *, op3 = +\n",
    "\n",
    "The compiler first scans the expression to evaluate the expression b * c, then again scan the expression to add a to it. The result is then added to d after another scan.\n",
    "The repeated scanning makes it very in-efficient. It is better to convert the expression to postfix(or prefix) form before evaluation."
   ]
  },
  {
   "cell_type": "markdown",
   "metadata": {},
   "source": [
    "Algorithm \n",
    "\n",
    "1. Scan the infix expression from left to right. \n",
    "\n",
    "2. If the scanned character is an operand, output it. \n",
    "\n",
    "3. Else,\n",
    "\n",
    "      1 If the precedence of the scanned operator is greater than the precedence of the operator in the stack(or the stack is empty           or the stack contains a ‘(‘ ), push it. \n",
    "      \n",
    "      2 Else, Pop all the operators from the stack which are greater than or equal to in precedence than that of the scanned operator. After doing that Push the scanned operator to the stack. (If you encounter parenthesis while popping then stop there and push the scanned operator in the stack.) \n",
    "\n",
    "4. If the scanned character is an ‘(‘, push it to the stack. \n",
    "\n",
    "5. If the scanned character is an ‘)’, pop the stack and and output it until a ‘(‘ is encountered, and discard both the parenthesis. \n",
    "\n",
    "6. Repeat steps 2-6 until infix expression is scanned. \n",
    "\n",
    "7. Print the output \n",
    "\n",
    "8. Pop and output from the stack until it is not empty."
   ]
  },
  {
   "cell_type": "code",
   "execution_count": 1,
   "metadata": {},
   "outputs": [
    {
     "name": "stdout",
     "output_type": "stream",
     "text": [
      "abcd^e-fgh*+^*+i-\n"
     ]
    }
   ],
   "source": [
    "class Convert:\n",
    "    def __init__(self):\n",
    "        self.output=[]\n",
    "        self.stack=[]\n",
    "        self.precedence={'+':1,'-':1,'/':2,'*':2,'^':3}\n",
    "\n",
    "    def isOperand(self,data):\n",
    "        if data.isalpha():\n",
    "            return True\n",
    "        return False\n",
    "\n",
    "    def push(self,data):\n",
    "        self.stack.append(data)\n",
    "\n",
    "    def isEmpty(self):\n",
    "        if len(self.stack)==0:\n",
    "            return True\n",
    "        return False\n",
    "\n",
    "    def pop(self):\n",
    "        if self.isEmpty():\n",
    "            return\n",
    "        return self.stack.pop()\n",
    "\n",
    "    def top(self):\n",
    "        return self.stack[-1]\n",
    "\n",
    "    def checkPrecedence(self,op):\n",
    "        ''' returns True if operator needs to be popped from stack\n",
    "        If precedence of incoming operator is less than the top operator\n",
    "        '''\n",
    "        try:\n",
    "            a=self.precedence[op]#Incoming operator\n",
    "            b=self.precedence[self.top()]\n",
    "            if a<=b:\n",
    "                return True\n",
    "            else:\n",
    "                return False\n",
    "        except KeyError:\n",
    "            # stack also contains parenteheses\n",
    "            return False\n",
    "\n",
    "    def conversion(self,expression):\n",
    "        for i in expression:\n",
    "            if self.isOperand(i):\n",
    "                self.output.append(i)\n",
    "            elif i=='(':\n",
    "                self.push(i)\n",
    "            elif i==\")\":\n",
    "                while not self.isEmpty() and self.top()!='(':\n",
    "                    self.output.append(self.pop())\n",
    "                # if not self.isEmpty() and self.top()!='(':\n",
    "                #     return\n",
    "                # else:\n",
    "                #     self.pop()\n",
    "                if not self.isEmpty() and self.top()=='(':\n",
    "                    self.pop()\n",
    "                else:\n",
    "                    return\n",
    "            else:\n",
    "                while not self.isEmpty() and self.checkPrecedence(i):\n",
    "                    self.output.append(self.pop())\n",
    "                self.push(i)\n",
    "        while not self.isEmpty():\n",
    "            self.output.append(self.pop())\n",
    "\n",
    "        print(\"\".join(self.output))\n",
    "\n",
    "if __name__ == '__main__':\n",
    "    exp2=\"a+b\"\n",
    "    exp=\"a+b*(c^d-e)^(f+g*h)-i\"\n",
    "    obj=Convert()\n",
    "    obj.conversion(exp)\n"
   ]
  },
  {
   "cell_type": "markdown",
   "metadata": {},
   "source": [
    "# Prefix to Infix Conversion"
   ]
  },
  {
   "cell_type": "markdown",
   "metadata": {},
   "source": [
    "Algorithm for Prefix to Infix: \n",
    "\n",
    "Read the Prefix expression in reverse order (from right to left)\n",
    "\n",
    "If the symbol is an operand, then push it onto the Stack\n",
    "\n",
    "If the symbol is an operator, then pop two operands from the Stack \n",
    "\n",
    "Create a string by concatenating the two operands and the operator between them. \n",
    "\n",
    "string = (operand1 + operator + operand2) \n",
    "\n",
    "And push the resultant string back to Stack\n",
    "\n",
    "Repeat the above steps until end of Prefix expression."
   ]
  },
  {
   "cell_type": "code",
   "execution_count": 2,
   "metadata": {},
   "outputs": [
    {
     "name": "stdout",
     "output_type": "stream",
     "text": [
      "((A-(B/C))*((A/K)-L))\n"
     ]
    }
   ],
   "source": [
    "class Convert:\n",
    "\n",
    "    def __init__(self):\n",
    "        self.stack=[]\n",
    "\n",
    "    def isOperand(self,data):\n",
    "        if data.isalpha():\n",
    "            return True\n",
    "        return False\n",
    "\n",
    "    def push(self,data):\n",
    "        self.stack.append(data)\n",
    "\n",
    "    def isEmpty(self):\n",
    "        if len(self.stack)==0:\n",
    "            return True\n",
    "        return False\n",
    "\n",
    "    def pop(self):\n",
    "        if self.isEmpty():\n",
    "            return\n",
    "        return self.stack.pop()\n",
    "    def top(self):\n",
    "        return self.stack[-1]\n",
    "\n",
    "    def preToInfix(self,exp):\n",
    "        for i in range(len(exp)-1,-1,-1):\n",
    "            if self.isOperand(exp[i]):\n",
    "                self.push(exp[i])\n",
    "            else:\n",
    "                op1=self.pop()\n",
    "                op2=self.pop()\n",
    "                str='('+op1+exp[i]+op2+')'\n",
    "                self.push(str)\n",
    "        return self.top()\n",
    "\n",
    "if __name__ == '__main__':\n",
    "    exp=\"*-A/BC-/AKL\"\n",
    "    obj=Convert()\n",
    "    print(obj.preToInfix(exp))\n"
   ]
  },
  {
   "cell_type": "markdown",
   "metadata": {},
   "source": [
    "# Prefix to Postfix Conversion"
   ]
  },
  {
   "cell_type": "markdown",
   "metadata": {},
   "source": [
    "Algorithm for Prefix to Postfix: \n",
    "\n",
    "Read the Prefix expression in reverse order (from right to left)\n",
    "\n",
    "If the symbol is an operand, then push it onto the Stack\n",
    "\n",
    "If the symbol is an operator, then pop two operands from the Stack \n",
    "\n",
    "Create a string by concatenating the two operands and the operator after them. \n",
    "\n",
    "string = operand1 + operand2 + operator \n",
    "\n",
    "And push the resultant string back to Stack\n",
    "\n",
    "Repeat the above steps until end of Prefix expression."
   ]
  },
  {
   "cell_type": "code",
   "execution_count": 3,
   "metadata": {},
   "outputs": [
    {
     "name": "stdout",
     "output_type": "stream",
     "text": [
      "((A(BC/)-)((AK/)L-)*)\n"
     ]
    }
   ],
   "source": [
    "class Convert:\n",
    "\n",
    "    def __init__(self):\n",
    "        self.stack=[]\n",
    "\n",
    "    def isEmpty(self):\n",
    "        if len(self.stack)==0:\n",
    "            return True\n",
    "        return False\n",
    "\n",
    "    def push(self,data):\n",
    "        self.stack.append(data)\n",
    "\n",
    "    def pop(self):\n",
    "        if self.isEmpty():\n",
    "            return\n",
    "        return self.stack.pop()\n",
    "\n",
    "    def isOperand(self,data):\n",
    "        if data.isalpha():\n",
    "            return True\n",
    "        return False\n",
    "\n",
    "    def top(self):\n",
    "        if self.isEmpty():\n",
    "            return\n",
    "        return self.stack[-1]\n",
    "\n",
    "\n",
    "    def conversion(self,exp):\n",
    "        for i in range(len(exp)-1,-1,-1):\n",
    "            if self.isOperand(exp[i]):\n",
    "                self.push(exp[i])\n",
    "            else:\n",
    "                op1=self.pop()\n",
    "                op2=self.pop()\n",
    "                str='('+op1+op2+exp[i]+')'\n",
    "                self.push(str)\n",
    "        return self.top()\n",
    "\n",
    "if __name__ == '__main__':\n",
    "    exp=\"*-A/BC-/AKL\"\n",
    "    obj=Convert()\n",
    "    print(obj.conversion(exp))\n"
   ]
  },
  {
   "cell_type": "markdown",
   "metadata": {},
   "source": [
    "# Postfix to Prefix Conversion"
   ]
  },
  {
   "cell_type": "markdown",
   "metadata": {},
   "source": [
    "Algorithm for Postfix to Prefix: \n",
    " \n",
    "Read the Postfix expression from left to right\n",
    "\n",
    "If the symbol is an operand, then push it onto the Stack\n",
    "\n",
    "If the symbol is an operator, then pop two operands from the Stack \n",
    "\n",
    "Create a string by concatenating the two operands and the operator before them. \n",
    "\n",
    "string = operator + operand2 + operand1 \n",
    "\n",
    "And push the resultant string back to Stack\n",
    "\n",
    "Repeat the above steps until end of Prefix expression."
   ]
  },
  {
   "cell_type": "code",
   "execution_count": 4,
   "metadata": {},
   "outputs": [
    {
     "name": "stdout",
     "output_type": "stream",
     "text": [
      "(*(-A(/BC))(-(/AK)L))\n"
     ]
    }
   ],
   "source": [
    "class Convert:\n",
    "\n",
    "    def __init__(self):\n",
    "        self.stack=[]\n",
    "\n",
    "    def isEmpty(self):\n",
    "        if len(self.stack)==0:\n",
    "            return True\n",
    "        return False\n",
    "\n",
    "    def push(self,data):\n",
    "        self.stack.append(data)\n",
    "\n",
    "    def pop(self):\n",
    "        if self.isEmpty():\n",
    "            return\n",
    "        return self.stack.pop()\n",
    "\n",
    "    def isOperand(self,data):\n",
    "        if data.isalpha():\n",
    "            return True\n",
    "        return False\n",
    "\n",
    "    def top(self):\n",
    "        if self.isEmpty():\n",
    "            return\n",
    "        return self.stack[-1]\n",
    "\n",
    "\n",
    "    def conversion(self,exp):\n",
    "        for i in range(len(exp)):\n",
    "            if self.isOperand(exp[i]):\n",
    "                self.push(exp[i])\n",
    "            else:\n",
    "                op1=self.pop()\n",
    "                op2=self.pop()\n",
    "                str='('+exp[i]+op2+op1+')'\n",
    "                self.push(str)\n",
    "        return self.top()\n",
    "\n",
    "if __name__ == '__main__':\n",
    "    exp=\"ABC/-AK/L-*\"\n",
    "    obj=Convert()\n",
    "    print(obj.conversion(exp))\n"
   ]
  },
  {
   "cell_type": "markdown",
   "metadata": {},
   "source": [
    "# Postfix to Infix"
   ]
  },
  {
   "cell_type": "code",
   "execution_count": 5,
   "metadata": {},
   "outputs": [
    {
     "name": "stdout",
     "output_type": "stream",
     "text": [
      "(a+(b+c))\n"
     ]
    }
   ],
   "source": [
    "class Convert:\n",
    "\n",
    "    def __init__(self):\n",
    "        self.stack=[]\n",
    "\n",
    "    def isEmpty(self):\n",
    "        if len(self.stack)==0:\n",
    "            return True\n",
    "        return False\n",
    "\n",
    "    def push(self,data):\n",
    "        self.stack.append(data)\n",
    "\n",
    "    def pop(self):\n",
    "        if self.isEmpty():\n",
    "            return\n",
    "        return self.stack.pop()\n",
    "\n",
    "    def isOperand(self,data):\n",
    "        if data.isalpha():\n",
    "            return True\n",
    "        return False\n",
    "\n",
    "    def top(self):\n",
    "        if self.isEmpty():\n",
    "            return\n",
    "        return self.stack[-1]\n",
    "\n",
    "\n",
    "    def conversion(self,exp):\n",
    "        for i in range(len(exp)):\n",
    "            if self.isOperand(exp[i]):\n",
    "                self.push(exp[i])\n",
    "            else:\n",
    "                op1=self.pop()\n",
    "                op2=self.pop()\n",
    "                str='('+op2+exp[i]+op1+')'\n",
    "                self.push(str)\n",
    "        return self.top()\n",
    "\n",
    "if __name__ == '__main__':\n",
    "    exp=\"abc++\"\n",
    "    obj=Convert()\n",
    "    print(obj.conversion(exp))\n"
   ]
  },
  {
   "cell_type": "markdown",
   "metadata": {},
   "source": [
    "# Convert Infix To Prefix Notation"
   ]
  },
  {
   "cell_type": "markdown",
   "metadata": {},
   "source": [
    "Step 1: Reverse the infix expression i.e A+B*C will become C*B+A. Note while reversing each ‘(‘ will become ‘)’ and each ‘)’ becomes ‘(‘.\n",
    "\n",
    "Step 2: Obtain the “nearly” postfix expression of the modified expression i.e CB*A+.\n",
    "\n",
    "Step 3: Reverse the postfix expression. Hence in our example prefix is +A*BC"
   ]
  },
  {
   "cell_type": "code",
   "execution_count": 6,
   "metadata": {},
   "outputs": [
    {
     "name": "stdout",
     "output_type": "stream",
     "text": [
      "*-a/bc-/akl\n"
     ]
    }
   ],
   "source": [
    "class Convert:\n",
    "\n",
    "    def __init__(self):\n",
    "        self.stack=[]\n",
    "        self.output=[]\n",
    "        self.precedence={'+':1,'-':1,'*':2,'/':2,'^':3}\n",
    "\n",
    "    def reverse(self,exp):\n",
    "        res=\"\"\n",
    "        temp=[]\n",
    "        for i in exp:\n",
    "            temp.append(i)\n",
    "        for i in range(len(temp)-1,-1,-1):\n",
    "            if temp[i]=='(':\n",
    "                res+=')'\n",
    "            elif temp[i]==')':\n",
    "                res+='('\n",
    "            else:\n",
    "                res+=temp[i]\n",
    "        return res\n",
    "\n",
    "    def isEmpty(self):\n",
    "        if len(self.stack)==0:\n",
    "            return True\n",
    "        return False\n",
    "\n",
    "    def isOperand(self,data):\n",
    "        if data.isalpha():\n",
    "            return True\n",
    "        return False\n",
    "\n",
    "    def push(self,data):\n",
    "        self.stack.append(data)\n",
    "\n",
    "    def pop(self):\n",
    "        if self.isEmpty():\n",
    "            return\n",
    "        return self.stack.pop()\n",
    "\n",
    "    def checkPrecedence(self,data):\n",
    "        try:\n",
    "            a=self.precedence[data]\n",
    "            b=self.precedence[self.top()]\n",
    "            if a<=b:\n",
    "                return True\n",
    "            else:\n",
    "                return False\n",
    "\n",
    "        except KeyError:\n",
    "            return False\n",
    "\n",
    "    def top(self):\n",
    "        if self.isEmpty():\n",
    "            return\n",
    "        return self.stack[-1]\n",
    "\n",
    "    def infixToPostFix(self,exp):\n",
    "        for i in exp:\n",
    "            if self.isOperand(i):\n",
    "                self.output.append(i)\n",
    "            elif i=='(':\n",
    "                self.push(i)\n",
    "            elif i==')':\n",
    "                while not self.isEmpty() and self.top()!='(':\n",
    "                    self.output.append(self.pop())\n",
    "                if not self.isEmpty() and self.top()!='(':\n",
    "                    return\n",
    "                else:\n",
    "                    self.pop()\n",
    "            else:\n",
    "                while not self.isEmpty() and self.checkPrecedence(i):\n",
    "                    self.output.append(self.pop())\n",
    "                self.push(i)\n",
    "        while  not self.isEmpty():\n",
    "            self.output.append(self.pop())\n",
    "        return \"\".join(self.output)\n",
    "\n",
    "\n",
    "\n",
    "\n",
    "    def infixToPrefix(self,exp):\n",
    "        exp=self.reverse(exp)\n",
    "        postfix=self.infixToPostFix(exp)\n",
    "        prefix=self.reverse(postfix)\n",
    "        print(prefix)\n",
    "\n",
    "if __name__ == '__main__':\n",
    "    exp=\"(a-b/c)*(a/k-l)\"\n",
    "    obj=Convert()\n",
    "    obj.infixToPrefix(exp)\n"
   ]
  },
  {
   "cell_type": "markdown",
   "metadata": {},
   "source": [
    "# The Stock Span Problem"
   ]
  },
  {
   "cell_type": "markdown",
   "metadata": {},
   "source": [
    "The stock span problem is a financial problem where we have a series of n daily price quotes for a stock and we need to calculate span of stock’s price for all n days.\n",
    "The span Si of the stock’s price on a given day i is defined as the maximum number of consecutive days just before the given day, for which the price of the stock on the current day is less than or equal to its price on the given day.\n",
    "For example, if an array of 7 days prices is given as {100, 80, 60, 70, 60, 75, 85}, then the span values for corresponding 7 days are {1, 1, 1, 2, 1, 4, 6}"
   ]
  },
  {
   "cell_type": "markdown",
   "metadata": {},
   "source": [
    "Approach->\n",
    "\n",
    "Traverse the input price array. For every element being visited, traverse elements on left of it and increment the span value of it while elements on the left side are smaller."
   ]
  },
  {
   "cell_type": "markdown",
   "metadata": {},
   "source": [
    "Time Complexity O(n^2)"
   ]
  },
  {
   "cell_type": "markdown",
   "metadata": {},
   "source": [
    "Another Approach -> Using Stacks \n",
    "\n",
    "S[i] on day i can be easily computed if we know the closest day preceding i, such that the price is greater than on that day than the price on the day i. If such a day exists, let’s call it h(i), otherwise, we define h(i) = -1.\n",
    "The span is now computed as S[i] = i – h(i)."
   ]
  },
  {
   "cell_type": "code",
   "execution_count": 7,
   "metadata": {},
   "outputs": [
    {
     "name": "stdout",
     "output_type": "stream",
     "text": [
      "[1, 1, 2, 4, 5, 1]\n"
     ]
    }
   ],
   "source": [
    "def calculateSpan(price,S):\n",
    "    st=[]\n",
    "    st.append(0)\n",
    "    S[0]=1\n",
    "\n",
    "    for i in range(1,len(price)):\n",
    "        while len(st)>0 and price[st[-1]]<=price[i]:\n",
    "            st.pop()\n",
    "\n",
    "        if len(st)<=0:\n",
    "            S[i]=i+1\n",
    "        else:\n",
    "            S[i]=i-st[-1]\n",
    "\n",
    "        st.append(i)\n",
    "\n",
    "    print(S)\n",
    "\n",
    "\n",
    "if __name__ == '__main__':\n",
    "    price=[10,4,5,90,120,80]\n",
    "    S=[0 for i in range(len(price))]\n",
    "    calculateSpan(price,S)    "
   ]
  },
  {
   "cell_type": "markdown",
   "metadata": {},
   "source": [
    "Time Complexity: O(n). It seems more than O(n) at first look. If we take a closer look, we can observe that every element of the array is added and removed from the stack at most once. So there are total 2n operations at most. Assuming that a stack operation takes O(1) time, we can say that the time complexity is O(n)."
   ]
  },
  {
   "cell_type": "markdown",
   "metadata": {},
   "source": [
    "Without Stack"
   ]
  },
  {
   "cell_type": "code",
   "execution_count": 8,
   "metadata": {},
   "outputs": [
    {
     "name": "stdout",
     "output_type": "stream",
     "text": [
      "[1, 1, 2, 4, 5, 1]\n"
     ]
    }
   ],
   "source": [
    "def calculateSpan2(price,S):\n",
    "    S[0]=1\n",
    "    for i in range(1,len(price)):\n",
    "        counter=1\n",
    "        while (i-counter)>=0 and price[i]>price[i-counter]:\n",
    "            counter+=S[i-counter]\n",
    "        S[i]=counter\n",
    "\n",
    "    print(S)\n",
    "\n",
    "if __name__ == '__main__':\n",
    "    price=[10,4,5,90,120,80]\n",
    "    S=[0 for i in range(len(price))]\n",
    "    calculateSpan2(price,S)"
   ]
  },
  {
   "cell_type": "markdown",
   "metadata": {},
   "source": [
    "# Check for Balanced Brackets in an expression (well-formedness) using Stack"
   ]
  },
  {
   "cell_type": "markdown",
   "metadata": {},
   "source": [
    "Given an expression string exp, write a program to examine whether the pairs and the orders of “{“, “}”, “(“, “)”, “[“, “]” are correct in exp."
   ]
  },
  {
   "cell_type": "markdown",
   "metadata": {},
   "source": [
    "If the current character is a starting bracket (‘(‘ or ‘{‘ or ‘[‘) then push it to stack.\n",
    "                                                                \n",
    "If the current character is a closing bracket (‘)’ or ‘}’ or ‘]’) then pop from stack and if the popped character is the matching starting bracket then fine else brackets are not balanced.\n",
    "\n",
    "After complete traversal, if there is some starting bracket left in stack then “not balanced”"
   ]
  },
  {
   "cell_type": "code",
   "execution_count": 9,
   "metadata": {},
   "outputs": [
    {
     "name": "stdout",
     "output_type": "stream",
     "text": [
      "True\n"
     ]
    }
   ],
   "source": [
    "def isBalanced(exp):\n",
    "    stack=[]\n",
    "    for i in exp:\n",
    "        if i=='(' or i=='[' or i=='{':\n",
    "            stack.append(i)\n",
    "        else:\n",
    "            if i==')':\n",
    "                top=stack.pop()\n",
    "                if top=='{' or top=='[':\n",
    "                    return False\n",
    "            elif i==']':\n",
    "                top=stack.pop()\n",
    "                if top=='(' or top=='{':\n",
    "                    return False\n",
    "            else:\n",
    "                top=stack.pop()\n",
    "                if top=='(' or top=='[':\n",
    "                    return False\n",
    "    if len(stack)>0:\n",
    "        return False\n",
    "    return True\n",
    "\n",
    "if __name__ == '__main__':\n",
    "    exp=\"[()]{}{[()()]()}\"\n",
    "    print(isBalanced(exp))\n"
   ]
  },
  {
   "cell_type": "markdown",
   "metadata": {},
   "source": [
    "# Next Greater Element"
   ]
  },
  {
   "cell_type": "markdown",
   "metadata": {},
   "source": [
    "Given an array, print the Next Greater Element (NGE) for every element. The Next greater Element for an element x is the first greater element on the right side of x in the array. Elements for which no greater element exist, consider next greater element as -1. "
   ]
  },
  {
   "cell_type": "markdown",
   "metadata": {},
   "source": [
    "Approach 1-> Use 2 loops"
   ]
  },
  {
   "cell_type": "markdown",
   "metadata": {},
   "source": [
    "Approach 2-> Using Stacks"
   ]
  },
  {
   "cell_type": "markdown",
   "metadata": {},
   "source": [
    "<pre>\n",
    "Push the first element to stack.\n",
    "Pick rest of the elements one by one and follow the following steps in loop. \n",
    "Mark the current element as next.\n",
    "If stack is not empty, compare top element of stack with next.\n",
    "If next is greater than the top element,Pop element from stack. next is the next greater element for the popped element.\n",
    "Keep popping from the stack while the popped element is smaller than next. next becomes the next greater element for all such popped elements\n",
    "Finally, push the next in the stack.\n",
    "After the loop in step 2 is over, pop all the elements from stack and print -1 as next element for them.\n",
    "</pre>"
   ]
  },
  {
   "cell_type": "code",
   "execution_count": 2,
   "metadata": {},
   "outputs": [
    {
     "name": "stdout",
     "output_type": "stream",
     "text": [
      "4 -- 5\n",
      "2 -- 25\n",
      "5 -- 25\n",
      "25 -- -1\n",
      "\n",
      "11 -- 13\n",
      "13 -- 21\n",
      "3 -- -1\n",
      "21 -- -1\n"
     ]
    }
   ],
   "source": [
    "def NGE(arr):\n",
    "    stack=[]\n",
    "    stack.append(arr[0])\n",
    "    for i in range(1,len(arr)):\n",
    "        while len(stack)>0 and stack[-1]<arr[i]:\n",
    "            print(stack.pop(),'--',arr[i])\n",
    "        stack.append(arr[i])\n",
    "\n",
    "    while len(stack)!=0:\n",
    "        print(stack.pop(),'--',-1)\n",
    "\n",
    "\n",
    "if __name__ == '__main__':\n",
    "    arr=[4,5,2,25]\n",
    "    NGE(arr)\n",
    "    print()\n",
    "    arr=[11,13,21,3]\n",
    "    NGE(arr)\n"
   ]
  },
  {
   "cell_type": "markdown",
   "metadata": {},
   "source": [
    "Time Complexity O(n) "
   ]
  },
  {
   "cell_type": "markdown",
   "metadata": {},
   "source": [
    "# NGE on Left"
   ]
  },
  {
   "cell_type": "code",
   "execution_count": 3,
   "metadata": {},
   "outputs": [
    {
     "name": "stdout",
     "output_type": "stream",
     "text": [
      "3-->21\n",
      "11-->-1\n",
      "13-->-1\n",
      "21-->-1\n"
     ]
    }
   ],
   "source": [
    "def NGE(arr):\n",
    "    n=len(arr)\n",
    "    stack=[]\n",
    "    stack.append(arr[n-1])\n",
    "    for i in range(n-2,-1,-1):\n",
    "        while len(stack)>0 and stack[-1]<arr[i]:\n",
    "            element=stack.pop()\n",
    "            print(f'{element}-->{arr[i]}')\n",
    "        stack.append(arr[i])\n",
    "\n",
    "    while stack:\n",
    "        print(f'{stack.pop()}-->{-1}')\n",
    "\n",
    "\n",
    "if __name__ == '__main__':\n",
    "    arr=[11, 13, 21, 3]\n",
    "    NGE(arr)\n"
   ]
  },
  {
   "cell_type": "markdown",
   "metadata": {},
   "source": [
    "# NGE Ordered"
   ]
  },
  {
   "cell_type": "code",
   "execution_count": 4,
   "metadata": {},
   "outputs": [
    {
     "name": "stdout",
     "output_type": "stream",
     "text": [
      "[5, 7, 7, 8, 8, -1]\n"
     ]
    }
   ],
   "source": [
    "def NGE(arr):\n",
    "    stack=[]\n",
    "    result=[0 for i in range(len(arr))]\n",
    "    for i in range(len(arr)-1,-1,-1):\n",
    "        while len(stack)>0 and stack[-1]<=arr[i]:\n",
    "            stack.pop()\n",
    "        if len(stack)==0:\n",
    "            result[i]=-1\n",
    "        else:\n",
    "            result[i]=stack[-1]\n",
    "        stack.append(arr[i])\n",
    "\n",
    "    print(result)\n",
    "\n",
    "if __name__ == '__main__':\n",
    "    arr=[4,5,2,7,3,8]\n",
    "    NGE(arr)\n"
   ]
  },
  {
   "cell_type": "markdown",
   "metadata": {},
   "source": [
    "# Next Greater Frequency Element"
   ]
  },
  {
   "cell_type": "markdown",
   "metadata": {},
   "source": [
    "Given an array, for each element find the value of the nearest element to the right which is having a frequency greater than as that of the current element. If there does not exist an answer for a position, then make the value ‘-1’."
   ]
  },
  {
   "cell_type": "code",
   "execution_count": 5,
   "metadata": {},
   "outputs": [
    {
     "name": "stdout",
     "output_type": "stream",
     "text": [
      "[-1, -1, 1, 2, 2, 1, -1]\n"
     ]
    }
   ],
   "source": [
    "def NGF(arr):\n",
    "    hash={}\n",
    "    for i in arr:\n",
    "        if i in hash:\n",
    "            hash[i]+=1\n",
    "        else:\n",
    "            hash[i]=1\n",
    "    #print(hash)\n",
    "    stack=[]\n",
    "    result=[0 for i in range(len(arr))]\n",
    "    for i in range(len(arr)-1,-1,-1):\n",
    "        while len(stack)>0 and hash[stack[-1]]<=hash[arr[i]]:\n",
    "            stack.pop()\n",
    "\n",
    "        if len(stack)==0:\n",
    "            result[i]=-1\n",
    "        else:\n",
    "            result[i]=stack[-1]\n",
    "\n",
    "        stack.append(arr[i])\n",
    "    print(result)\n",
    "\n",
    "if __name__ == '__main__':\n",
    "    arr=[1,1,2,3,4,2,1]\n",
    "    NGF(arr)\n"
   ]
  },
  {
   "cell_type": "markdown",
   "metadata": {},
   "source": [
    "# Number of NGEs to the right"
   ]
  },
  {
   "cell_type": "markdown",
   "metadata": {},
   "source": [
    "Naive approach is to traverse through the complete array and find the result for each index"
   ]
  },
  {
   "cell_type": "markdown",
   "metadata": {},
   "source": [
    "Time Complexity O(n)*q where q=number of queries"
   ]
  },
  {
   "cell_type": "markdown",
   "metadata": {},
   "source": [
    "Efficient approach is to store the next greater elements index using next greater element in a next[] array. Then create a dp[] array that starts from n-2, as n-1th index will have no elements to its right and dp[n-1] = 0. While traversing from back we use dynamic programming to count the number of elements to the right where we use memoization as dp[next[i]] which gives us a count of the numbers to the right of the next greater element of the current element, hence we add 1 to it. If next[i]=-1 then we do not have any element to the right hence dp[i]=0. dp[index] stores the count of the number of next greater elements to the right."
   ]
  },
  {
   "cell_type": "code",
   "execution_count": 1,
   "metadata": {},
   "outputs": [
    {
     "name": "stdout",
     "output_type": "stream",
     "text": [
      "4\n",
      "1\n"
     ]
    }
   ],
   "source": [
    "def noOfNGE(arr):\n",
    "    hash={arr[i]:i for i in range(len(arr))}\n",
    "    result=[0]*len(arr)\n",
    "    dp=[0]*len(arr)\n",
    "    stack=[]\n",
    "    for i in range(len(arr)-1,-1,-1):\n",
    "        while stack and stack[-1]<=arr[i]:\n",
    "            stack.pop()\n",
    "        if len(stack)==0:\n",
    "            result[i]=-1\n",
    "        else:\n",
    "            result[i]=hash[stack[-1]]\n",
    "        stack.append(arr[i])\n",
    "    # print(result)\n",
    "    for i in range(len(dp)-2,-1,-1):\n",
    "        if result[i]==-1:\n",
    "            dp[i]=0\n",
    "        else:\n",
    "            dp[i]=1+dp[result[i]]\n",
    "\n",
    "    return dp\n",
    "\n",
    "\n",
    "if __name__ == '__main__':\n",
    "    arr=[3, 4, 2, 7, 5, 8, 10, 6]\n",
    "    result=noOfNGE(arr)\n",
    "    q=2\n",
    "\n",
    "    print(result[0])\n",
    "    print(result[5])\n"
   ]
  },
  {
   "cell_type": "markdown",
   "metadata": {},
   "source": [
    "# Maximum product of indexes of next greater on left and right"
   ]
  },
  {
   "cell_type": "markdown",
   "metadata": {},
   "source": [
    "<pre>\n",
    "Given an array a[1..N]. For each element at position i (1 <= i <= N). Where\n",
    "\n",
    "L(i) is defined as closest index j such that j < i and a[j] > a[i]. If no such j exists then L(i) = 0.\n",
    "R(i) is defined as closest index k such that k > i and a[k] > a[i]. If no such k exists then R(i) = 0.\n",
    "LRProduct(i) = L(i)*R(i) .\n",
    "\n",
    "We need to find an index with maximum LRProduct\n",
    "</pre>"
   ]
  },
  {
   "cell_type": "code",
   "execution_count": 3,
   "metadata": {},
   "outputs": [
    {
     "name": "stdout",
     "output_type": "stream",
     "text": [
      "[0, 5, 4, 5, 0]\n",
      "[0, 1, 2, 1, 0]\n",
      "8\n"
     ]
    }
   ],
   "source": [
    "def getMaxProd(arr):\n",
    "\n",
    "    stack=[]\n",
    "    L=[0 for i in range(len(arr))]\n",
    "    R=[0 for i in range(len(arr))]\n",
    "    for i in range(len(arr)-1,-1,-1):\n",
    "        while len(stack)>0 and arr[stack[-1]]<=arr[i]:\n",
    "            stack.pop()\n",
    "        if len(stack)==0:\n",
    "            R[i]=0\n",
    "        else:\n",
    "            R[i]=stack[-1]+1#arr.index(stack[-1])+1\n",
    "        stack.append(i)\n",
    "    stack=[]\n",
    "    for i in range(0,len(arr)):\n",
    "        while len(stack)>0 and arr[stack[-1]]<=arr[i]:\n",
    "            stack.pop()\n",
    "        if len(stack)==0:\n",
    "            L[i]=0\n",
    "        else:\n",
    "            L[i]=stack[-1]+1#arr.index(stack[-1])+1\n",
    "        stack.append(i)\n",
    "    print(R)\n",
    "    print(L)\n",
    "    res=max([L[i]* R[i] for i in range(len(arr))])\n",
    "    print(res)\n",
    "if __name__ == '__main__':\n",
    "    arr=[5, 4, 3, 4, 5 ]\n",
    "    getMaxProd(arr)\n"
   ]
  },
  {
   "cell_type": "markdown",
   "metadata": {},
   "source": [
    "Time Complexity O(n) and Space Complexity O(n)"
   ]
  },
  {
   "cell_type": "markdown",
   "metadata": {},
   "source": [
    "# The Celebrity Problem"
   ]
  },
  {
   "cell_type": "markdown",
   "metadata": {},
   "source": [
    "In a party of N people, only one person is known to everyone. Such a person may be present in the party, if yes, (s)he doesn’t know anyone in the party. We can only ask questions like “does A know B? “. Find the stranger (celebrity) in the minimum number of questions.\n",
    "\n",
    "We can describe the problem input as an array of numbers/characters representing persons in the party. We also have a hypothetical function HaveAcquaintance(A, B) which returns true if A knows B, false otherwise"
   ]
  },
  {
   "cell_type": "markdown",
   "metadata": {},
   "source": [
    "Approach 1-> Indegree and Outdegree Concept"
   ]
  },
  {
   "cell_type": "markdown",
   "metadata": {},
   "source": [
    "Initialize indegree and outdegree of every vertex as 0. If A knows B, draw a directed edge from A to B, increase indegree of B and outdegree of A by 1. Construct all possible edges of the graph for every possible pair [i, j]. There are NC2 pairs. <strong>If a celebrity is present in the party, there will be one sink node in the graph with outdegree of zero and indegree of N-1.</strong> "
   ]
  },
  {
   "cell_type": "code",
   "execution_count": 4,
   "metadata": {},
   "outputs": [
    {
     "name": "stdout",
     "output_type": "stream",
     "text": [
      "No celebrity found\n"
     ]
    }
   ],
   "source": [
    "def findCelebrity(arr):\n",
    "    n=len(arr)\n",
    "    indegree=[0]*n\n",
    "    outdegree=[0]*n\n",
    "    for i in range(n):\n",
    "        for j in range(n):\n",
    "            if arr[i][j]:\n",
    "                indegree[j]+=1\n",
    "                outdegree[i]+=1\n",
    "    for i in range(n):\n",
    "        if indegree[i]==n-1 and outdegree[i]==0:\n",
    "            return i\n",
    "\n",
    "    return -1\n",
    "\n",
    "if __name__ == '__main__':\n",
    "    # arr=[[0,0,1,0],[0,0,1,0],[0,0,0,0],[0,0,1,0]]\n",
    "    arr=[[0,0,1,0],[0,0,1,0],[0,1,0,0],[0,0,1,0]]\n",
    "    result=findCelebrity(arr)\n",
    "    if result!=-1:\n",
    "        print(f'{result} is the celebrity')\n",
    "    else:\n",
    "        print(f'No celebrity found')\n"
   ]
  },
  {
   "cell_type": "markdown",
   "metadata": {},
   "source": [
    "Approach 2-> Elimination\n",
    "\n",
    "If A knows B, then A can’t be a celebrity. Discard A, and B may be celebrity.\n",
    "\n",
    "If A doesn’t know B, then B can’t be a celebrity. Discard B, and A may be celebrity.\n",
    "\n",
    "Repeat above two steps till there is only one person.\n",
    "\n",
    "Ensure the remained person is a celebrity. (What is the need of this step?)"
   ]
  },
  {
   "cell_type": "code",
   "execution_count": 6,
   "metadata": {},
   "outputs": [
    {
     "name": "stdout",
     "output_type": "stream",
     "text": [
      "2 is the celebrity!\n"
     ]
    }
   ],
   "source": [
    "class Celebrity:\n",
    "\n",
    "    def __init__(self):\n",
    "        self.acquaintance=[[0,0,1,0],[0,0,1,0],[0,0,0,0],[0,0,1,0]]\n",
    "\n",
    "    def knows(self,a,b):\n",
    "        if self.acquaintance[a][b] ==1:\n",
    "            return True\n",
    "        return False\n",
    "\n",
    "    def findCelebrity(self,n):\n",
    "        stack=[]\n",
    "        for i in range(n):\n",
    "            stack.append(i)\n",
    "        while len(stack)>1:\n",
    "            a=stack.pop()\n",
    "            b=stack.pop()\n",
    "            if self.knows(a,b):\n",
    "                stack.append(b)\n",
    "            else:\n",
    "                stack.append(a)\n",
    "\n",
    "        c=stack.pop()\n",
    "        for i in range(n):\n",
    "            if i!=c and (self.knows(c,i) or not self.knows(i,c)):\n",
    "                return -1\n",
    "        return c\n",
    "\n",
    "if __name__ == '__main__':\n",
    "    find=Celebrity()\n",
    "    res=find.findCelebrity(3)\n",
    "    if res ==-1:\n",
    "        print('No celebrity')\n",
    "    else:\n",
    "        print(res,'is the celebrity!')\n"
   ]
  },
  {
   "cell_type": "markdown",
   "metadata": {},
   "source": [
    "# Expression Evaluation"
   ]
  },
  {
   "cell_type": "markdown",
   "metadata": {},
   "source": [
    "Infix Expressions are harder for Computers to evaluate because of the additional work needed to decide precedence. Infix notation is how expressions are written and recognized by humans and, generally, input to programs. Given that they are harder to evaluate, they are generally converted to one of the two remaining forms. A very well known algorithm for converting an infix notation to a postfix notation is Shunting Yard Algorithm by Edgar Dijkstra. This algorithm takes as input an Infix Expression and produces a queue that has this expression converted to postfix notation. The same algorithm can be modified so that it outputs the result of the evaluation of expression instead of a queue. The trick is using two stacks instead of one, one for operands, and one for operators"
   ]
  },
  {
   "cell_type": "code",
   "execution_count": 1,
   "metadata": {},
   "outputs": [
    {
     "name": "stdout",
     "output_type": "stream",
     "text": [
      "22\n",
      "212\n",
      "1400\n"
     ]
    }
   ],
   "source": [
    "class Evaluation:\n",
    "\n",
    "    def __init__(self):\n",
    "        self.value=[]\n",
    "        self.operator=[]\n",
    "        self.precedence={'+':1,'-':1,'*':2,'/':2,'(':0,')':0}\n",
    "\n",
    "    def ValueisEmpty(self):\n",
    "        if len(self.value) ==0:\n",
    "            return True\n",
    "        return False\n",
    "\n",
    "    def OperatorisEmpty(self):\n",
    "        if len(self.operator)==0:\n",
    "            return True\n",
    "        return False\n",
    "\n",
    "    def pushValue(self,data):\n",
    "        self.value.append(data)\n",
    "\n",
    "    def pushOperator(self,data):\n",
    "        self.operator.append(data)\n",
    "\n",
    "    def popValue(self):\n",
    "        if self.ValueisEmpty():\n",
    "            return\n",
    "        return self.value.pop()\n",
    "\n",
    "    def popOperator(self):\n",
    "        if self.OperatorisEmpty():\n",
    "            return\n",
    "        return self.operator.pop()\n",
    "\n",
    "    def applyOp(self,op,a,b):\n",
    "        if op=='+':\n",
    "            return a+b\n",
    "        if op=='-' :\n",
    "            return a-b\n",
    "        if op=='*' :\n",
    "            return a*b\n",
    "        if op=='/' :\n",
    "            return a//b\n",
    "\n",
    "    def evaluate(self,exp):\n",
    "        i=0\n",
    "        while i<len(exp):\n",
    "            if exp[i]==' ':  #whitespace\n",
    "                i+=1\n",
    "                continue\n",
    "            elif exp[i]=='(':\n",
    "                self.pushOperator(exp[i])\n",
    "            elif exp[i].isdigit():\n",
    "                val=0\n",
    "                while i<len(exp) and exp[i].isdigit():\n",
    "                    val=val*10 +int(exp[i])\n",
    "                    i+=1\n",
    "                self.pushValue(val)\n",
    "                i-=1\n",
    "            elif exp[i]==')':\n",
    "                while not self.OperatorisEmpty() and self.operator[-1]!='(':\n",
    "                    op=self.popOperator()\n",
    "                    a=self.popValue()\n",
    "                    b=self.popValue()\n",
    "                    self.pushValue(self.applyOp(op,a,b))\n",
    "                if not self.OperatorisEmpty():\n",
    "                    self.popOperator()\n",
    "            else:\n",
    "                while not self.OperatorisEmpty() and self.precedence[self.operator[-1]]>=self.precedence[exp[i]]:\n",
    "                    op=self.popOperator()\n",
    "                    a=self.popValue()\n",
    "                    b=self.popValue()\n",
    "                    self.pushValue(self.applyOp(op,a,b))\n",
    "                self.pushOperator(exp[i])\n",
    "            i+=1\n",
    "        while not self.OperatorisEmpty():\n",
    "            op=self.popOperator()\n",
    "            a=self.popValue()\n",
    "            b=self.popValue()\n",
    "            self.pushValue(self.applyOp(op,a,b))\n",
    "\n",
    "        return self.value[-1]\n",
    "\n",
    "if __name__ == '__main__':\n",
    "    e=Evaluation()\n",
    "    print(e.evaluate(\"10 + 2 * 6\"))\n",
    "    print(e.evaluate(\"100 * 2 + 12\"))\n",
    "    print(e.evaluate(\"100 * ( 2 + 12 )\"))"
   ]
  },
  {
   "cell_type": "markdown",
   "metadata": {},
   "source": [
    "# Arithmetic Expression Evalution"
   ]
  },
  {
   "cell_type": "markdown",
   "metadata": {},
   "source": [
    "Convert Infix to postfix or prefix and then evaluate using stacks. Or use the Shuntman Yard Algorithm"
   ]
  },
  {
   "cell_type": "markdown",
   "metadata": {},
   "source": [
    "# Tower Of Hanoi"
   ]
  },
  {
   "cell_type": "markdown",
   "metadata": {},
   "source": [
    "<center><h1>Operations On Stack</h1></center>"
   ]
  },
  {
   "cell_type": "markdown",
   "metadata": {},
   "source": [
    "# Reverse a stack using recursion"
   ]
  },
  {
   "cell_type": "markdown",
   "metadata": {},
   "source": [
    "The idea of the solution is to hold all values in Function Call Stack until the stack becomes empty. When the stack becomes empty, insert all held items one by one at the bottom of the stack. "
   ]
  },
  {
   "cell_type": "code",
   "execution_count": 2,
   "metadata": {},
   "outputs": [
    {
     "name": "stdout",
     "output_type": "stream",
     "text": [
      "1 2 3 4 \n",
      "4 3 2 1 \n"
     ]
    }
   ],
   "source": [
    "class Stack:\n",
    "\n",
    "    def __init__(self):\n",
    "        self.stack=[]\n",
    "        self.aux=[]\n",
    "\n",
    "    def isEmpty(self):\n",
    "        if len(self.stack)==0:\n",
    "            return True\n",
    "        return False\n",
    "\n",
    "    def push(self,data):\n",
    "        self.stack.append(data)\n",
    "\n",
    "    def pop(self):\n",
    "        if self.isEmpty():\n",
    "            return\n",
    "        return self.stack.pop()\n",
    "\n",
    "    def reverse(self):\n",
    "        if self.isEmpty():\n",
    "            return\n",
    "        x=self.pop()\n",
    "        self.reverse()\n",
    "        self.insertAtBottom(x)\n",
    "\n",
    "    def insertAtBottom(self,item):\n",
    "        if self.isEmpty():\n",
    "            self.push(item)\n",
    "        else:\n",
    "            temp=self.pop()\n",
    "            self.insertAtBottom(item)\n",
    "            self.push(temp)\n",
    "\n",
    "    def traverse(self):\n",
    "        if self.isEmpty():\n",
    "            print('Stack is empty')\n",
    "            return\n",
    "        top=len(self.stack)-1\n",
    "        while top>=0:\n",
    "            print(self.stack[top],end=\" \")\n",
    "            top-=1\n",
    "        print()\n",
    "\n",
    "if __name__ == '__main__':\n",
    "    stack=Stack()\n",
    "    stack.push(4)\n",
    "    stack.push(3)\n",
    "    stack.push(2)\n",
    "    stack.push(1)\n",
    "    stack.traverse()\n",
    "    stack.reverse()\n",
    "    stack.traverse()\n"
   ]
  },
  {
   "cell_type": "markdown",
   "metadata": {},
   "source": [
    "Approach 2-> Using Linked List"
   ]
  },
  {
   "cell_type": "markdown",
   "metadata": {},
   "source": [
    "Reverse the Linked List"
   ]
  },
  {
   "cell_type": "code",
   "execution_count": 3,
   "metadata": {},
   "outputs": [
    {
     "name": "stdout",
     "output_type": "stream",
     "text": [
      "5 4 3 2 1 \n",
      "1 2 3 4 5 \n"
     ]
    }
   ],
   "source": [
    "#reversing the stack in O(1) space and O(1) time\n",
    "import gc\n",
    "class Node:\n",
    "    def __init__(self,data):\n",
    "        self.data=data\n",
    "        self.next=None\n",
    "\n",
    "class Stack:\n",
    "    def __init__(self):\n",
    "        self.head=None\n",
    "\n",
    "    def append(self,data):\n",
    "        temp=Node(data)\n",
    "        if self.head is None:\n",
    "            self.head=temp\n",
    "            return\n",
    "        temp.next=self.head\n",
    "        self.head=temp\n",
    "\n",
    "    def delete(self):\n",
    "        if self.head is None:\n",
    "            return\n",
    "        free=self.head\n",
    "        self.head=self.head.next\n",
    "        free=None\n",
    "        gc.collect()\n",
    "\n",
    "    def traverse(self):\n",
    "        if self.head is None:\n",
    "            print('Stack is empty')\n",
    "            return\n",
    "        temp=self.head\n",
    "        while temp:\n",
    "            print(temp.data,end=\" \")\n",
    "            temp=temp.next\n",
    "        print()\n",
    "\n",
    "    def reverse(self):\n",
    "        if self.head is None:\n",
    "            return\n",
    "        temp=self.head\n",
    "        prev=None\n",
    "        while temp:\n",
    "            next=temp.next\n",
    "            temp.next=prev\n",
    "            prev=temp\n",
    "            temp=next\n",
    "        self.head=prev\n",
    "\n",
    "if __name__ == '__main__':\n",
    "    stack=Stack()\n",
    "    stack.append(1)\n",
    "    stack.append(2)\n",
    "    stack.append(3)\n",
    "    stack.append(4)\n",
    "    stack.append(5)\n",
    "    stack.traverse()\n",
    "    stack.reverse()\n",
    "    stack.traverse()\n"
   ]
  },
  {
   "cell_type": "code",
   "execution_count": null,
   "metadata": {},
   "outputs": [],
   "source": []
  }
 ],
 "metadata": {
  "kernelspec": {
   "display_name": "Python 3",
   "language": "python",
   "name": "python3"
  },
  "language_info": {
   "codemirror_mode": {
    "name": "ipython",
    "version": 3
   },
   "file_extension": ".py",
   "mimetype": "text/x-python",
   "name": "python",
   "nbconvert_exporter": "python",
   "pygments_lexer": "ipython3",
   "version": "3.7.6"
  }
 },
 "nbformat": 4,
 "nbformat_minor": 4
}
